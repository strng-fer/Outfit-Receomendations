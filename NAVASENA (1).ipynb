{
  "nbformat": 4,
  "nbformat_minor": 0,
  "metadata": {
    "colab": {
      "provenance": [],
      "gpuType": "T4"
    },
    "kernelspec": {
      "name": "python3",
      "display_name": "Python 3"
    },
    "language_info": {
      "name": "python"
    },
    "accelerator": "GPU"
  },
  "cells": [
    {
      "cell_type": "markdown",
      "source": [
        "# BIODATA\n",
        "## Nama: Feryadi Yulius\n",
        "## Kelas: Generative AI with LLM"
      ],
      "metadata": {
        "id": "obkU6NqTWsbC"
      }
    },
    {
      "cell_type": "markdown",
      "source": [
        "# NAVASENA: Sistem Rekomendasi Outfit\n",
        "\n",
        "Notebook ini mendemonstrasikan pembuatan sistem rekomendasi outfit. Sistem ini akan memanfaatkan dataset rekomendasi outfit, membuat vector store untuk pencarian cepat, dan menggunakan Large Language Model (LLM) dari NVIDIA (melalui API Endpoints) untuk menghasilkan rekomendasi berdasarkan input pengguna dan konteks yang diambil dari dataset.\n",
        "\n",
        "**Tujuan Utama:**\n",
        "1.  Mempersiapkan environment dengan dependensi yang diperlukan.\n",
        "2.  Memuat dan melakukan pra-pemrosesan dataset rekomendasi outfit.\n",
        "3.  Membangun vector store menggunakan FAISS dan embeddings dari Sentence Transformers.\n",
        "4.  Mengkonfigurasi dan menggunakan LLM dari NVIDIA untuk menghasilkan rekomendasi.\n",
        "5.  Mengintegrasikan retriever (dari vector store) dengan LLM untuk membentuk RAG pipeline.\n",
        "\n",
        "**Penting:**\n",
        "* Pastikan Anda menjalankan notebook ini di environment yang memiliki GPU untuk akselerasi, terutama untuk embedding dan model LLM jika memungkinkan. Colab dengan GPU direkomendasikan.\n",
        "* **ANDA MEMBUTUHKAN NVIDIA API KEY** untuk mengakses model LLM. Simpan API key Anda dengan aman (misalnya, menggunakan Colab Secrets). **JANGAN HARDCODE API KEY LANGSUNG DI DALAM KODE SECARA PERMANEN, TERUTAMA JIKA AKAN DI-SHARE.**"
      ],
      "metadata": {
        "id": "z0Jgyl7fM1Mn"
      }
    },
    {
      "cell_type": "markdown",
      "source": [
        "# 0. ENVIRONMENT PREPARATION"
      ],
      "metadata": {
        "id": "4YC905PI0fyg"
      }
    },
    {
      "cell_type": "markdown",
      "source": [
        "### 0.1. Penyesuaian Versi NumPy\n",
        "Beberapa dependensi, terutama yang berkaitan dengan NeMo atau PyTorch, mungkin memerlukan versi NumPy tertentu untuk kompatibilitas. Sel ini memastikan NumPy versi `1.26.4` terinstal. Jika versi lain terdeteksi atau NumPy belum terinstal, versi yang diinginkan akan diinstal, dan runtime Colab akan di-restart secara otomatis (`os._exit(00)`) untuk menerapkan perubahan."
      ],
      "metadata": {
        "id": "eKWEwhyVM9US"
      }
    },
    {
      "cell_type": "code",
      "source": [
        "import importlib.metadata\n",
        "\n",
        "desired_version = \"1.26.4\"\n",
        "\n",
        "try:\n",
        "    installed_version = importlib.metadata.version(\"numpy\")\n",
        "    if installed_version == desired_version:\n",
        "        print(f\"NumPy {desired_version} is already installed.\")\n",
        "    else:\n",
        "        print(f\"Installing NumPy {desired_version} (current: {installed_version})...\")\n",
        "        !pip install numpy=={desired_version} --prefer-binary\n",
        "        import os\n",
        "        os._exit(00)  # Restart runtime for changes to take effect\n",
        "except importlib.metadata.PackageNotFoundError:\n",
        "    print(f\"NumPy is not installed. Installing {desired_version}...\")\n",
        "    !pip install numpy=={desired_version} --prefer-binary\n",
        "    import os\n",
        "    os._exit(00)"
      ],
      "metadata": {
        "colab": {
          "base_uri": "https://localhost:8080/"
        },
        "id": "GINWBVpEIKYa",
        "outputId": "44ea3557-a065-46ee-ab64-d254a33ab48f"
      },
      "execution_count": null,
      "outputs": [
        {
          "output_type": "stream",
          "name": "stdout",
          "text": [
            "NumPy 1.26.4 is already installed.\n"
          ]
        }
      ]
    },
    {
      "cell_type": "markdown",
      "source": [
        "### 0.2. Instalasi `uv`\n",
        "`uv` adalah package installer alternatif untuk Python yang seringkali lebih cepat daripada `pip`. Kita akan menggunakannya untuk beberapa instalasi berikutnya."
      ],
      "metadata": {
        "id": "CDB56fAFNBZe"
      }
    },
    {
      "cell_type": "code",
      "source": [
        "!pip install uv"
      ],
      "metadata": {
        "colab": {
          "base_uri": "https://localhost:8080/"
        },
        "id": "_1E6dU9FvXPP",
        "outputId": "049bc520-1c06-42fa-f90e-a80b5bdc1fd0"
      },
      "execution_count": null,
      "outputs": [
        {
          "output_type": "stream",
          "name": "stdout",
          "text": [
            "Requirement already satisfied: uv in /usr/local/lib/python3.11/dist-packages (0.7.10)\n"
          ]
        }
      ]
    },
    {
      "cell_type": "markdown",
      "source": [
        "### 0.3. Instalasi Dependensi Tambahan dan NeMo Toolkit\n",
        "\n",
        "Sel ini menginstal beberapa paket sistem dan Python yang diperlukan:\n",
        "* **Paket Sistem (via `apt-get`):**\n",
        "    * `sox`: Utilitas pemrosesan audio.\n",
        "    * `libsndfile1`: Library untuk membaca/menulis file audio.\n",
        "    * `ffmpeg`: Framework multimedia serbaguna.\n",
        "* **Paket Python (via `uv pip`):**\n",
        "    * `wget`: Untuk mengunduh file.\n",
        "    * `text-unidecode`: Untuk transliterasi teks Unicode ke ASCII.\n",
        "* **NVIDIA NeMo Toolkit:**\n",
        "    * NeMo adalah toolkit open-source untuk membangun dan melatih model AI percakapan. Di sini, kita menginstalnya langsung dari repositori GitHub (branch `main`) dengan semua dependensi opsional (`[all]`). Meskipun NeMo mungkin tidak digunakan secara langsung di versi final notebook ini (karena kita beralih ke LangChain dan NVIDIA NIM), sel ini adalah bagian dari setup awal yang mungkin relevan jika ada eksplorasi NeMo lebih lanjut.\n",
        "\n",
        "**Catatan untuk Pengguna Colab:**\n",
        "Pastikan Anda telah menghubungkan runtime ke GPU (Runtime -> Change runtime type -> GPU) sebelum menjalankan sel ini."
      ],
      "metadata": {
        "id": "tVl7EgvzNJIa"
      }
    },
    {
      "cell_type": "code",
      "source": [
        "\"\"\"\n",
        "You can run either this notebook locally (if you have all the dependencies and a GPU) or on Google Colab.\n",
        "\n",
        "Instructions for setting up Colab are as follows:\n",
        "1. Open a new Python 3 notebook.\n",
        "2. Import this notebook from GitHub (File -> Upload Notebook -> \"GITHUB\" tab -> copy/paste GitHub URL)\n",
        "3. Connect to an instance with a GPU (Runtime -> Change runtime type -> select \"GPU\" for hardware accelerator)\n",
        "4. Run this cell to set up dependencies.\n",
        "\"\"\"\n",
        "# If you're using Google Colab and not running locally, run this cell.\n",
        "\n",
        "## Install dependencies\n",
        "!apt-get install sox libsndfile1 ffmpeg\n",
        "!uv pip install wget\n",
        "!uv pip install text-unidecode\n",
        "\n",
        "### Install NeMo\n",
        "# BRANCH = 'r2.0.0rc0'\n",
        "BRANCH = 'main'\n",
        "!python -m pip install git+https://github.com/NVIDIA/NeMo.git@$BRANCH#egg=nemo_toolkit[all]"
      ],
      "metadata": {
        "colab": {
          "base_uri": "https://localhost:8080/"
        },
        "id": "dSsRB8-r86ir",
        "outputId": "28893785-1086-435c-95a9-0f8410bbe087",
        "collapsed": true
      },
      "execution_count": null,
      "outputs": [
        {
          "output_type": "stream",
          "name": "stdout",
          "text": [
            "Reading package lists... Done\n",
            "Building dependency tree... Done\n",
            "Reading state information... Done\n",
            "libsndfile1 is already the newest version (1.0.31-2ubuntu0.2).\n",
            "ffmpeg is already the newest version (7:4.4.2-0ubuntu0.22.04.1).\n",
            "sox is already the newest version (14.4.2+git20190427-2+deb11u2ubuntu0.22.04.1).\n",
            "0 upgraded, 0 newly installed, 0 to remove and 35 not upgraded.\n",
            "\u001b[2mUsing Python 3.11.12 environment at: /usr\u001b[0m\n",
            "\u001b[2mAudited \u001b[1m1 package\u001b[0m \u001b[2min 76ms\u001b[0m\u001b[0m\n",
            "\u001b[2mUsing Python 3.11.12 environment at: /usr\u001b[0m\n",
            "\u001b[2mAudited \u001b[1m1 package\u001b[0m \u001b[2min 89ms\u001b[0m\u001b[0m\n",
            "\u001b[33mDEPRECATION: git+https://github.com/NVIDIA/NeMo.git@main#egg=nemo_toolkit[all] contains an egg fragment with a non-PEP 508 name pip 25.0 will enforce this behaviour change. A possible replacement is to use the req @ url syntax, and remove the egg fragment. Discussion can be found at https://github.com/pypa/pip/issues/11617\u001b[0m\u001b[33m\n",
            "\u001b[0mCollecting nemo_toolkit (from nemo_toolkit[all])\n",
            "  Cloning https://github.com/NVIDIA/NeMo.git (to revision main) to /tmp/pip-install-kp54j97x/nemo-toolkit_6133204fa04a45b59a3d1874f7a5e735\n",
            "  Running command git clone --filter=blob:none --quiet https://github.com/NVIDIA/NeMo.git /tmp/pip-install-kp54j97x/nemo-toolkit_6133204fa04a45b59a3d1874f7a5e735\n",
            "  Resolved https://github.com/NVIDIA/NeMo.git to commit 94ce722a80b2b108da1f033139afc8527402cfa1\n",
            "  Installing build dependencies ... \u001b[?25l\u001b[?25hdone\n",
            "  Getting requirements to build wheel ... \u001b[?25l\u001b[?25hdone\n",
            "  Preparing metadata (pyproject.toml) ... \u001b[?25l\u001b[?25hdone\n",
            "Requirement already satisfied: fsspec==2024.12.0 in /usr/local/lib/python3.11/dist-packages (from nemo_toolkit->nemo_toolkit[all]) (2024.12.0)\n",
            "Requirement already satisfied: huggingface_hub>=0.24 in /usr/local/lib/python3.11/dist-packages (from nemo_toolkit->nemo_toolkit[all]) (0.32.2)\n",
            "Requirement already satisfied: numba in /usr/local/lib/python3.11/dist-packages (from nemo_toolkit->nemo_toolkit[all]) (0.60.0)\n",
            "Requirement already satisfied: numpy>=1.22 in /usr/local/lib/python3.11/dist-packages (from nemo_toolkit->nemo_toolkit[all]) (1.26.4)\n",
            "Requirement already satisfied: onnx>=1.7.0 in /usr/local/lib/python3.11/dist-packages (from nemo_toolkit->nemo_toolkit[all]) (1.17.0)\n",
            "Requirement already satisfied: protobuf~=4.24.4 in /usr/local/lib/python3.11/dist-packages (from nemo_toolkit->nemo_toolkit[all]) (4.24.4)\n",
            "Requirement already satisfied: python-dateutil in /usr/local/lib/python3.11/dist-packages (from nemo_toolkit->nemo_toolkit[all]) (2.9.0.post0)\n",
            "Requirement already satisfied: ruamel.yaml in /usr/local/lib/python3.11/dist-packages (from nemo_toolkit->nemo_toolkit[all]) (0.18.12)\n",
            "Requirement already satisfied: scikit-learn in /usr/local/lib/python3.11/dist-packages (from nemo_toolkit->nemo_toolkit[all]) (1.6.1)\n",
            "Requirement already satisfied: setuptools>=70.0.0 in /usr/local/lib/python3.11/dist-packages (from nemo_toolkit->nemo_toolkit[all]) (75.2.0)\n",
            "Requirement already satisfied: tensorboard in /usr/local/lib/python3.11/dist-packages (from nemo_toolkit->nemo_toolkit[all]) (2.18.0)\n",
            "Requirement already satisfied: text-unidecode in /usr/local/lib/python3.11/dist-packages (from nemo_toolkit->nemo_toolkit[all]) (1.3)\n",
            "Requirement already satisfied: torch in /usr/local/lib/python3.11/dist-packages (from nemo_toolkit->nemo_toolkit[all]) (2.6.0+cu124)\n",
            "Requirement already satisfied: tqdm>=4.41.0 in /usr/local/lib/python3.11/dist-packages (from nemo_toolkit->nemo_toolkit[all]) (4.67.1)\n",
            "Requirement already satisfied: wget in /usr/local/lib/python3.11/dist-packages (from nemo_toolkit->nemo_toolkit[all]) (3.2)\n",
            "Requirement already satisfied: wrapt in /usr/local/lib/python3.11/dist-packages (from nemo_toolkit->nemo_toolkit[all]) (1.17.2)\n",
            "Requirement already satisfied: black~=24.3 in /usr/local/lib/python3.11/dist-packages (from nemo_toolkit->nemo_toolkit[all]) (24.10.0)\n",
            "Requirement already satisfied: click>=8.1 in /usr/local/lib/python3.11/dist-packages (from nemo_toolkit->nemo_toolkit[all]) (8.2.1)\n",
            "Requirement already satisfied: coverage in /usr/local/lib/python3.11/dist-packages (from nemo_toolkit->nemo_toolkit[all]) (7.8.2)\n",
            "Requirement already satisfied: isort<6.0.0,>5.1.0 in /usr/local/lib/python3.11/dist-packages (from nemo_toolkit->nemo_toolkit[all]) (5.13.2)\n",
            "Requirement already satisfied: parameterized in /usr/local/lib/python3.11/dist-packages (from nemo_toolkit->nemo_toolkit[all]) (0.9.0)\n",
            "Requirement already satisfied: pytest in /usr/local/lib/python3.11/dist-packages (from nemo_toolkit->nemo_toolkit[all]) (8.3.5)\n",
            "Requirement already satisfied: pytest-httpserver in /usr/local/lib/python3.11/dist-packages (from nemo_toolkit->nemo_toolkit[all]) (1.1.3)\n",
            "Requirement already satisfied: pytest-mock in /usr/local/lib/python3.11/dist-packages (from nemo_toolkit->nemo_toolkit[all]) (3.14.1)\n",
            "Requirement already satisfied: pytest-runner in /usr/local/lib/python3.11/dist-packages (from nemo_toolkit->nemo_toolkit[all]) (6.0.1)\n",
            "Requirement already satisfied: sphinx in /usr/local/lib/python3.11/dist-packages (from nemo_toolkit->nemo_toolkit[all]) (8.2.3)\n",
            "Requirement already satisfied: sphinxcontrib-bibtex in /usr/local/lib/python3.11/dist-packages (from nemo_toolkit->nemo_toolkit[all]) (2.6.3)\n",
            "Requirement already satisfied: wandb in /usr/local/lib/python3.11/dist-packages (from nemo_toolkit->nemo_toolkit[all]) (0.19.11)\n",
            "Requirement already satisfied: nemo_run in /usr/local/lib/python3.11/dist-packages (from nemo_toolkit->nemo_toolkit[all]) (0.4.0)\n",
            "Requirement already satisfied: cloudpickle in /usr/local/lib/python3.11/dist-packages (from nemo_toolkit->nemo_toolkit[all]) (3.1.1)\n",
            "Requirement already satisfied: fiddle in /usr/local/lib/python3.11/dist-packages (from nemo_toolkit->nemo_toolkit[all]) (0.3.0)\n",
            "Requirement already satisfied: hydra-core<=1.3.2,>1.3 in /usr/local/lib/python3.11/dist-packages (from nemo_toolkit->nemo_toolkit[all]) (1.3.2)\n",
            "Requirement already satisfied: lightning<=2.4.0,>2.2.1 in /usr/local/lib/python3.11/dist-packages (from nemo_toolkit->nemo_toolkit[all]) (2.4.0)\n",
            "Requirement already satisfied: omegaconf<=2.3 in /usr/local/lib/python3.11/dist-packages (from nemo_toolkit->nemo_toolkit[all]) (2.3.0)\n",
            "Requirement already satisfied: peft in /usr/local/lib/python3.11/dist-packages (from nemo_toolkit->nemo_toolkit[all]) (0.15.2)\n",
            "Requirement already satisfied: torchmetrics>=0.11.0 in /usr/local/lib/python3.11/dist-packages (from nemo_toolkit->nemo_toolkit[all]) (1.7.2)\n",
            "Requirement already satisfied: transformers<=4.52.0,>=4.51.0 in /usr/local/lib/python3.11/dist-packages (from nemo_toolkit->nemo_toolkit[all]) (4.51.3)\n",
            "Requirement already satisfied: webdataset>=0.2.86 in /usr/local/lib/python3.11/dist-packages (from nemo_toolkit->nemo_toolkit[all]) (0.2.111)\n",
            "Requirement already satisfied: bitsandbytes==0.45.3 in /usr/local/lib/python3.11/dist-packages (from nemo_toolkit->nemo_toolkit[all]) (0.45.3)\n",
            "Requirement already satisfied: datasets in /usr/local/lib/python3.11/dist-packages (from nemo_toolkit->nemo_toolkit[all]) (3.6.0)\n",
            "Requirement already satisfied: einops in /usr/local/lib/python3.11/dist-packages (from nemo_toolkit->nemo_toolkit[all]) (0.8.1)\n",
            "Requirement already satisfied: inflect in /usr/local/lib/python3.11/dist-packages (from nemo_toolkit->nemo_toolkit[all]) (7.5.0)\n",
            "Requirement already satisfied: mediapy==1.1.6 in /usr/local/lib/python3.11/dist-packages (from nemo_toolkit->nemo_toolkit[all]) (1.1.6)\n",
            "Requirement already satisfied: pandas in /usr/local/lib/python3.11/dist-packages (from nemo_toolkit->nemo_toolkit[all]) (2.2.2)\n",
            "Requirement already satisfied: sacremoses>=0.0.43 in /usr/local/lib/python3.11/dist-packages (from nemo_toolkit->nemo_toolkit[all]) (0.1.1)\n",
            "Requirement already satisfied: sentencepiece<1.0.0 in /usr/local/lib/python3.11/dist-packages (from nemo_toolkit->nemo_toolkit[all]) (0.2.0)\n",
            "Requirement already satisfied: braceexpand in /usr/local/lib/python3.11/dist-packages (from nemo_toolkit->nemo_toolkit[all]) (0.1.7)\n",
            "Requirement already satisfied: editdistance in /usr/local/lib/python3.11/dist-packages (from nemo_toolkit->nemo_toolkit[all]) (0.8.1)\n",
            "Requirement already satisfied: g2p_en in /usr/local/lib/python3.11/dist-packages (from nemo_toolkit->nemo_toolkit[all]) (2.1.0)\n",
            "Requirement already satisfied: jiwer in /usr/local/lib/python3.11/dist-packages (from nemo_toolkit->nemo_toolkit[all]) (3.1.0)\n",
            "Requirement already satisfied: kaldi-python-io in /usr/local/lib/python3.11/dist-packages (from nemo_toolkit->nemo_toolkit[all]) (1.2.2)\n",
            "Requirement already satisfied: kaldiio in /usr/local/lib/python3.11/dist-packages (from nemo_toolkit->nemo_toolkit[all]) (2.18.1)\n",
            "Requirement already satisfied: lhotse!=1.31.0 in /usr/local/lib/python3.11/dist-packages (from nemo_toolkit->nemo_toolkit[all]) (1.30.3)\n",
            "Requirement already satisfied: librosa>=0.10.1 in /usr/local/lib/python3.11/dist-packages (from nemo_toolkit->nemo_toolkit[all]) (0.11.0)\n",
            "Requirement already satisfied: marshmallow in /usr/local/lib/python3.11/dist-packages (from nemo_toolkit->nemo_toolkit[all]) (3.26.1)\n",
            "Requirement already satisfied: optuna in /usr/local/lib/python3.11/dist-packages (from nemo_toolkit->nemo_toolkit[all]) (4.3.0)\n",
            "Requirement already satisfied: packaging in /usr/local/lib/python3.11/dist-packages (from nemo_toolkit->nemo_toolkit[all]) (24.2)\n",
            "Requirement already satisfied: pyannote.core in /usr/local/lib/python3.11/dist-packages (from nemo_toolkit->nemo_toolkit[all]) (5.0.0)\n",
            "Requirement already satisfied: pyannote.metrics in /usr/local/lib/python3.11/dist-packages (from nemo_toolkit->nemo_toolkit[all]) (3.2.1)\n",
            "Requirement already satisfied: pydub in /usr/local/lib/python3.11/dist-packages (from nemo_toolkit->nemo_toolkit[all]) (0.25.1)\n",
            "Requirement already satisfied: pyloudnorm in /usr/local/lib/python3.11/dist-packages (from nemo_toolkit->nemo_toolkit[all]) (0.1.1)\n",
            "Requirement already satisfied: resampy in /usr/local/lib/python3.11/dist-packages (from nemo_toolkit->nemo_toolkit[all]) (0.4.3)\n",
            "Requirement already satisfied: scipy>=0.14 in /usr/local/lib/python3.11/dist-packages (from nemo_toolkit->nemo_toolkit[all]) (1.15.3)\n",
            "Requirement already satisfied: soundfile in /usr/local/lib/python3.11/dist-packages (from nemo_toolkit->nemo_toolkit[all]) (0.13.1)\n",
            "Requirement already satisfied: sox<=1.5.0 in /usr/local/lib/python3.11/dist-packages (from nemo_toolkit->nemo_toolkit[all]) (1.5.0)\n",
            "Requirement already satisfied: texterrors<1.0.0 in /usr/local/lib/python3.11/dist-packages (from nemo_toolkit->nemo_toolkit[all]) (0.5.1)\n",
            "Requirement already satisfied: whisper_normalizer in /usr/local/lib/python3.11/dist-packages (from nemo_toolkit->nemo_toolkit[all]) (0.1.11)\n",
            "Requirement already satisfied: num2words in /usr/local/lib/python3.11/dist-packages (from nemo_toolkit->nemo_toolkit[all]) (0.5.14)\n",
            "Requirement already satisfied: accelerated-scan in /usr/local/lib/python3.11/dist-packages (from nemo_toolkit->nemo_toolkit[all]) (0.2.0)\n",
            "Requirement already satisfied: boto3 in /usr/local/lib/python3.11/dist-packages (from nemo_toolkit->nemo_toolkit[all]) (1.38.29)\n",
            "Requirement already satisfied: faiss-cpu in /usr/local/lib/python3.11/dist-packages (from nemo_toolkit->nemo_toolkit[all]) (1.11.0)\n",
            "Requirement already satisfied: flask_restful in /usr/local/lib/python3.11/dist-packages (from nemo_toolkit->nemo_toolkit[all]) (0.3.10)\n",
            "Requirement already satisfied: ftfy in /usr/local/lib/python3.11/dist-packages (from nemo_toolkit->nemo_toolkit[all]) (6.3.1)\n",
            "Requirement already satisfied: gdown in /usr/local/lib/python3.11/dist-packages (from nemo_toolkit->nemo_toolkit[all]) (5.2.0)\n",
            "Requirement already satisfied: h5py in /usr/local/lib/python3.11/dist-packages (from nemo_toolkit->nemo_toolkit[all]) (3.13.0)\n",
            "Requirement already satisfied: ijson in /usr/local/lib/python3.11/dist-packages (from nemo_toolkit->nemo_toolkit[all]) (3.4.0)\n",
            "Requirement already satisfied: jieba in /usr/local/lib/python3.11/dist-packages (from nemo_toolkit->nemo_toolkit[all]) (0.42.1)\n",
            "Requirement already satisfied: markdown2 in /usr/local/lib/python3.11/dist-packages (from nemo_toolkit->nemo_toolkit[all]) (2.5.3)\n",
            "Requirement already satisfied: matplotlib>=3.3.2 in /usr/local/lib/python3.11/dist-packages (from nemo_toolkit->nemo_toolkit[all]) (3.10.0)\n",
            "Requirement already satisfied: megatron_core in /usr/local/lib/python3.11/dist-packages (from nemo_toolkit->nemo_toolkit[all]) (0.12.1)\n",
            "Requirement already satisfied: nltk>=3.6.5 in /usr/local/lib/python3.11/dist-packages (from nemo_toolkit->nemo_toolkit[all]) (3.9.1)\n",
            "Requirement already satisfied: nvidia-modelopt<=0.29.0,>=0.27.0 in /usr/local/lib/python3.11/dist-packages (from nvidia-modelopt[torch]<=0.29.0,>=0.27.0; platform_system != \"Darwin\" and extra == \"all\"->nemo_toolkit->nemo_toolkit[all]) (0.29.0)\n",
            "Requirement already satisfied: nvidia-resiliency-ext<1.0.0,>=0.3.0 in /usr/local/lib/python3.11/dist-packages (from nemo_toolkit->nemo_toolkit[all]) (0.4.0)\n",
            "Requirement already satisfied: nvtx in /usr/local/lib/python3.11/dist-packages (from nemo_toolkit->nemo_toolkit[all]) (0.2.12)\n",
            "Requirement already satisfied: opencc in /usr/local/lib/python3.11/dist-packages (from nemo_toolkit->nemo_toolkit[all]) (1.1.9)\n",
            "Requirement already satisfied: pangu in /usr/local/lib/python3.11/dist-packages (from nemo_toolkit->nemo_toolkit[all]) (4.0.6.1)\n",
            "Requirement already satisfied: prettytable in /usr/local/lib/python3.11/dist-packages (from nemo_toolkit->nemo_toolkit[all]) (3.16.0)\n",
            "Requirement already satisfied: rapidfuzz in /usr/local/lib/python3.11/dist-packages (from nemo_toolkit->nemo_toolkit[all]) (3.13.0)\n",
            "Requirement already satisfied: rouge_score in /usr/local/lib/python3.11/dist-packages (from nemo_toolkit->nemo_toolkit[all]) (0.1.2)\n",
            "Requirement already satisfied: sacrebleu in /usr/local/lib/python3.11/dist-packages (from nemo_toolkit->nemo_toolkit[all]) (2.5.1)\n",
            "Requirement already satisfied: sentence_transformers in /usr/local/lib/python3.11/dist-packages (from nemo_toolkit->nemo_toolkit[all]) (4.1.0)\n",
            "Requirement already satisfied: tensorstore<0.1.72 in /usr/local/lib/python3.11/dist-packages (from nemo_toolkit->nemo_toolkit[all]) (0.1.71)\n",
            "Requirement already satisfied: tiktoken==0.7.0 in /usr/local/lib/python3.11/dist-packages (from nemo_toolkit->nemo_toolkit[all]) (0.7.0)\n",
            "Requirement already satisfied: unstructured==0.14.9 in /usr/local/lib/python3.11/dist-packages (from nemo_toolkit->nemo_toolkit[all]) (0.14.9)\n",
            "Requirement already satisfied: zarr<3.0.0,>=2.18.2 in /usr/local/lib/python3.11/dist-packages (from nemo_toolkit->nemo_toolkit[all]) (2.18.7)\n",
            "Requirement already satisfied: attrdict in /usr/local/lib/python3.11/dist-packages (from nemo_toolkit->nemo_toolkit[all]) (2.0.1)\n",
            "Requirement already satisfied: cdifflib==1.2.6 in /usr/local/lib/python3.11/dist-packages (from nemo_toolkit->nemo_toolkit[all]) (1.2.6)\n",
            "Requirement already satisfied: janome in /usr/local/lib/python3.11/dist-packages (from nemo_toolkit->nemo_toolkit[all]) (0.5.0)\n",
            "Requirement already satisfied: kornia in /usr/local/lib/python3.11/dist-packages (from nemo_toolkit->nemo_toolkit[all]) (0.8.1)\n",
            "Requirement already satisfied: nemo_text_processing in /usr/local/lib/python3.11/dist-packages (from nemo_toolkit->nemo_toolkit[all]) (1.1.0)\n",
            "Requirement already satisfied: pypinyin in /usr/local/lib/python3.11/dist-packages (from nemo_toolkit->nemo_toolkit[all]) (0.54.0)\n",
            "Requirement already satisfied: pypinyin-dict in /usr/local/lib/python3.11/dist-packages (from nemo_toolkit->nemo_toolkit[all]) (0.9.0)\n",
            "Requirement already satisfied: seaborn in /usr/local/lib/python3.11/dist-packages (from nemo_toolkit->nemo_toolkit[all]) (0.13.2)\n",
            "Requirement already satisfied: progress>=1.5 in /usr/local/lib/python3.11/dist-packages (from nemo_toolkit->nemo_toolkit[all]) (1.6)\n",
            "Requirement already satisfied: tabulate>=0.8.7 in /usr/local/lib/python3.11/dist-packages (from nemo_toolkit->nemo_toolkit[all]) (0.9.0)\n",
            "Requirement already satisfied: textdistance>=4.1.5 in /usr/local/lib/python3.11/dist-packages (from nemo_toolkit->nemo_toolkit[all]) (4.6.3)\n",
            "Requirement already satisfied: addict in /usr/local/lib/python3.11/dist-packages (from nemo_toolkit->nemo_toolkit[all]) (2.4.0)\n",
            "Requirement already satisfied: clip in /usr/local/lib/python3.11/dist-packages (from nemo_toolkit->nemo_toolkit[all]) (0.2.0)\n",
            "Requirement already satisfied: decord in /usr/local/lib/python3.11/dist-packages (from nemo_toolkit->nemo_toolkit[all]) (0.6.0)\n",
            "Requirement already satisfied: diffusers>=0.19.3 in /usr/local/lib/python3.11/dist-packages (from nemo_toolkit->nemo_toolkit[all]) (0.33.1)\n",
            "Requirement already satisfied: einops_exts in /usr/local/lib/python3.11/dist-packages (from nemo_toolkit->nemo_toolkit[all]) (0.0.4)\n",
            "Requirement already satisfied: imageio in /usr/local/lib/python3.11/dist-packages (from nemo_toolkit->nemo_toolkit[all]) (2.37.0)\n",
            "Requirement already satisfied: megatron-energon==5.2.0 in /usr/local/lib/python3.11/dist-packages (from nemo_toolkit->nemo_toolkit[all]) (5.2.0)\n",
            "Requirement already satisfied: nerfacc>=0.5.3 in /usr/local/lib/python3.11/dist-packages (from nemo_toolkit->nemo_toolkit[all]) (0.5.3)\n",
            "Requirement already satisfied: open_clip_torch==2.24.0 in /usr/local/lib/python3.11/dist-packages (from nemo_toolkit->nemo_toolkit[all]) (2.24.0)\n",
            "Requirement already satisfied: qwen_vl_utils in /usr/local/lib/python3.11/dist-packages (from nemo_toolkit->nemo_toolkit[all]) (0.0.11)\n",
            "Requirement already satisfied: taming-transformers in /usr/local/lib/python3.11/dist-packages (from nemo_toolkit->nemo_toolkit[all]) (0.0.1)\n",
            "Requirement already satisfied: torchdiffeq in /usr/local/lib/python3.11/dist-packages (from nemo_toolkit->nemo_toolkit[all]) (0.2.5)\n",
            "Requirement already satisfied: torchsde in /usr/local/lib/python3.11/dist-packages (from nemo_toolkit->nemo_toolkit[all]) (0.2.6)\n",
            "Requirement already satisfied: trimesh in /usr/local/lib/python3.11/dist-packages (from nemo_toolkit->nemo_toolkit[all]) (4.6.10)\n",
            "Requirement already satisfied: pesq in /usr/local/lib/python3.11/dist-packages (from nemo_toolkit->nemo_toolkit[all]) (0.0.4)\n",
            "Requirement already satisfied: pystoi in /usr/local/lib/python3.11/dist-packages (from nemo_toolkit->nemo_toolkit[all]) (0.4.1)\n",
            "Requirement already satisfied: nvidia-lm-eval in /usr/local/lib/python3.11/dist-packages (from nemo_toolkit->nemo_toolkit[all]) (25.4.1)\n",
            "Requirement already satisfied: ipython in /usr/local/lib/python3.11/dist-packages (from mediapy==1.1.6->nemo_toolkit->nemo_toolkit[all]) (7.34.0)\n",
            "Requirement already satisfied: Pillow in /usr/local/lib/python3.11/dist-packages (from mediapy==1.1.6->nemo_toolkit->nemo_toolkit[all]) (11.2.1)\n",
            "Requirement already satisfied: multi-storage-client>=0.13.0 in /usr/local/lib/python3.11/dist-packages (from megatron-energon==5.2.0->nemo_toolkit->nemo_toolkit[all]) (0.21.0)\n",
            "Requirement already satisfied: pyyaml in /usr/local/lib/python3.11/dist-packages (from megatron-energon==5.2.0->nemo_toolkit->nemo_toolkit[all]) (6.0.2)\n",
            "Requirement already satisfied: s3fs in /usr/local/lib/python3.11/dist-packages (from megatron-energon==5.2.0->nemo_toolkit->nemo_toolkit[all]) (0.4.2)\n",
            "Requirement already satisfied: torchvision in /usr/local/lib/python3.11/dist-packages (from open_clip_torch==2.24.0->nemo_toolkit->nemo_toolkit[all]) (0.21.0+cu124)\n",
            "Requirement already satisfied: regex in /usr/local/lib/python3.11/dist-packages (from open_clip_torch==2.24.0->nemo_toolkit->nemo_toolkit[all]) (2024.11.6)\n",
            "Requirement already satisfied: timm in /usr/local/lib/python3.11/dist-packages (from open_clip_torch==2.24.0->nemo_toolkit->nemo_toolkit[all]) (1.0.15)\n",
            "Requirement already satisfied: requests>=2.26.0 in /usr/local/lib/python3.11/dist-packages (from tiktoken==0.7.0->nemo_toolkit->nemo_toolkit[all]) (2.32.3)\n",
            "Requirement already satisfied: chardet in /usr/local/lib/python3.11/dist-packages (from unstructured==0.14.9->nemo_toolkit->nemo_toolkit[all]) (5.2.0)\n",
            "Requirement already satisfied: filetype in /usr/local/lib/python3.11/dist-packages (from unstructured==0.14.9->nemo_toolkit->nemo_toolkit[all]) (1.2.0)\n",
            "Requirement already satisfied: python-magic in /usr/local/lib/python3.11/dist-packages (from unstructured==0.14.9->nemo_toolkit->nemo_toolkit[all]) (0.4.27)\n",
            "Requirement already satisfied: lxml in /usr/local/lib/python3.11/dist-packages (from unstructured==0.14.9->nemo_toolkit->nemo_toolkit[all]) (5.4.0)\n",
            "Requirement already satisfied: beautifulsoup4 in /usr/local/lib/python3.11/dist-packages (from unstructured==0.14.9->nemo_toolkit->nemo_toolkit[all]) (4.13.1)\n",
            "Requirement already satisfied: emoji in /usr/local/lib/python3.11/dist-packages (from unstructured==0.14.9->nemo_toolkit->nemo_toolkit[all]) (2.14.1)\n",
            "Requirement already satisfied: dataclasses-json in /usr/local/lib/python3.11/dist-packages (from unstructured==0.14.9->nemo_toolkit->nemo_toolkit[all]) (0.6.7)\n",
            "Requirement already satisfied: python-iso639 in /usr/local/lib/python3.11/dist-packages (from unstructured==0.14.9->nemo_toolkit->nemo_toolkit[all]) (2025.2.18)\n",
            "Requirement already satisfied: langdetect in /usr/local/lib/python3.11/dist-packages (from unstructured==0.14.9->nemo_toolkit->nemo_toolkit[all]) (1.0.9)\n",
            "Requirement already satisfied: backoff in /usr/local/lib/python3.11/dist-packages (from unstructured==0.14.9->nemo_toolkit->nemo_toolkit[all]) (2.2.1)\n",
            "Requirement already satisfied: typing-extensions in /usr/local/lib/python3.11/dist-packages (from unstructured==0.14.9->nemo_toolkit->nemo_toolkit[all]) (4.13.2)\n",
            "Requirement already satisfied: unstructured-client in /usr/local/lib/python3.11/dist-packages (from unstructured==0.14.9->nemo_toolkit->nemo_toolkit[all]) (0.36.0)\n",
            "Requirement already satisfied: mypy-extensions>=0.4.3 in /usr/local/lib/python3.11/dist-packages (from black~=24.3->nemo_toolkit->nemo_toolkit[all]) (1.1.0)\n",
            "Requirement already satisfied: pathspec>=0.9.0 in /usr/local/lib/python3.11/dist-packages (from black~=24.3->nemo_toolkit->nemo_toolkit[all]) (0.12.1)\n",
            "Requirement already satisfied: platformdirs>=2 in /usr/local/lib/python3.11/dist-packages (from black~=24.3->nemo_toolkit->nemo_toolkit[all]) (4.3.8)\n",
            "Requirement already satisfied: importlib-metadata in /usr/local/lib/python3.11/dist-packages (from diffusers>=0.19.3->nemo_toolkit->nemo_toolkit[all]) (8.6.1)\n",
            "Requirement already satisfied: filelock in /usr/local/lib/python3.11/dist-packages (from diffusers>=0.19.3->nemo_toolkit->nemo_toolkit[all]) (3.18.0)\n",
            "Requirement already satisfied: safetensors>=0.3.1 in /usr/local/lib/python3.11/dist-packages (from diffusers>=0.19.3->nemo_toolkit->nemo_toolkit[all]) (0.5.3)\n",
            "Requirement already satisfied: hf-xet<2.0.0,>=1.1.2 in /usr/local/lib/python3.11/dist-packages (from huggingface_hub>=0.24->nemo_toolkit->nemo_toolkit[all]) (1.1.2)\n",
            "Requirement already satisfied: antlr4-python3-runtime==4.9.* in /usr/local/lib/python3.11/dist-packages (from hydra-core<=1.3.2,>1.3->nemo_toolkit->nemo_toolkit[all]) (4.9.3)\n",
            "Requirement already satisfied: audioread>=2.1.9 in /usr/local/lib/python3.11/dist-packages (from lhotse!=1.31.0->nemo_toolkit->nemo_toolkit[all]) (3.0.1)\n",
            "Requirement already satisfied: cytoolz>=0.10.1 in /usr/local/lib/python3.11/dist-packages (from lhotse!=1.31.0->nemo_toolkit->nemo_toolkit[all]) (1.0.1)\n",
            "Requirement already satisfied: intervaltree>=3.1.0 in /usr/local/lib/python3.11/dist-packages (from lhotse!=1.31.0->nemo_toolkit->nemo_toolkit[all]) (3.1.0)\n",
            "Requirement already satisfied: lilcom>=1.1.0 in /usr/local/lib/python3.11/dist-packages (from lhotse!=1.31.0->nemo_toolkit->nemo_toolkit[all]) (1.8.1)\n",
            "Requirement already satisfied: joblib>=1.0 in /usr/local/lib/python3.11/dist-packages (from librosa>=0.10.1->nemo_toolkit->nemo_toolkit[all]) (1.5.1)\n",
            "Requirement already satisfied: decorator>=4.3.0 in /usr/local/lib/python3.11/dist-packages (from librosa>=0.10.1->nemo_toolkit->nemo_toolkit[all]) (5.2.1)\n",
            "Requirement already satisfied: pooch>=1.1 in /usr/local/lib/python3.11/dist-packages (from librosa>=0.10.1->nemo_toolkit->nemo_toolkit[all]) (1.8.2)\n",
            "Requirement already satisfied: soxr>=0.3.2 in /usr/local/lib/python3.11/dist-packages (from librosa>=0.10.1->nemo_toolkit->nemo_toolkit[all]) (0.5.0.post1)\n",
            "Requirement already satisfied: lazy_loader>=0.1 in /usr/local/lib/python3.11/dist-packages (from librosa>=0.10.1->nemo_toolkit->nemo_toolkit[all]) (0.4)\n",
            "Requirement already satisfied: msgpack>=1.0 in /usr/local/lib/python3.11/dist-packages (from librosa>=0.10.1->nemo_toolkit->nemo_toolkit[all]) (1.1.0)\n",
            "Requirement already satisfied: lightning-utilities<2.0,>=0.10.0 in /usr/local/lib/python3.11/dist-packages (from lightning<=2.4.0,>2.2.1->nemo_toolkit->nemo_toolkit[all]) (0.14.3)\n",
            "Requirement already satisfied: pytorch-lightning in /usr/local/lib/python3.11/dist-packages (from lightning<=2.4.0,>2.2.1->nemo_toolkit->nemo_toolkit[all]) (2.5.1.post0)\n",
            "Requirement already satisfied: contourpy>=1.0.1 in /usr/local/lib/python3.11/dist-packages (from matplotlib>=3.3.2->nemo_toolkit->nemo_toolkit[all]) (1.3.2)\n",
            "Requirement already satisfied: cycler>=0.10 in /usr/local/lib/python3.11/dist-packages (from matplotlib>=3.3.2->nemo_toolkit->nemo_toolkit[all]) (0.12.1)\n",
            "Requirement already satisfied: fonttools>=4.22.0 in /usr/local/lib/python3.11/dist-packages (from matplotlib>=3.3.2->nemo_toolkit->nemo_toolkit[all]) (4.58.1)\n",
            "Requirement already satisfied: kiwisolver>=1.3.1 in /usr/local/lib/python3.11/dist-packages (from matplotlib>=3.3.2->nemo_toolkit->nemo_toolkit[all]) (1.4.8)\n",
            "Requirement already satisfied: pyparsing>=2.3.1 in /usr/local/lib/python3.11/dist-packages (from matplotlib>=3.3.2->nemo_toolkit->nemo_toolkit[all]) (3.2.3)\n",
            "Requirement already satisfied: rich>=12 in /usr/local/lib/python3.11/dist-packages (from nerfacc>=0.5.3->nemo_toolkit->nemo_toolkit[all]) (13.9.4)\n",
            "Requirement already satisfied: llvmlite<0.44,>=0.43.0dev0 in /usr/local/lib/python3.11/dist-packages (from numba->nemo_toolkit->nemo_toolkit[all]) (0.43.0)\n",
            "Requirement already satisfied: nvidia-modelopt-core==0.29.0 in /usr/local/lib/python3.11/dist-packages (from nvidia-modelopt<=0.29.0,>=0.27.0->nvidia-modelopt[torch]<=0.29.0,>=0.27.0; platform_system != \"Darwin\" and extra == \"all\"->nemo_toolkit->nemo_toolkit[all]) (0.29.0)\n",
            "Requirement already satisfied: ninja in /usr/local/lib/python3.11/dist-packages (from nvidia-modelopt<=0.29.0,>=0.27.0->nvidia-modelopt[torch]<=0.29.0,>=0.27.0; platform_system != \"Darwin\" and extra == \"all\"->nemo_toolkit->nemo_toolkit[all]) (1.11.1.4)\n",
            "Requirement already satisfied: pydantic>=2.0 in /usr/local/lib/python3.11/dist-packages (from nvidia-modelopt<=0.29.0,>=0.27.0->nvidia-modelopt[torch]<=0.29.0,>=0.27.0; platform_system != \"Darwin\" and extra == \"all\"->nemo_toolkit->nemo_toolkit[all]) (2.11.5)\n",
            "Requirement already satisfied: pulp in /usr/local/lib/python3.11/dist-packages (from nvidia-modelopt[torch]<=0.29.0,>=0.27.0; platform_system != \"Darwin\" and extra == \"all\"->nemo_toolkit->nemo_toolkit[all]) (3.2.1)\n",
            "Requirement already satisfied: pynvml>=11.5.0 in /usr/local/lib/python3.11/dist-packages (from nvidia-modelopt[torch]<=0.29.0,>=0.27.0; platform_system != \"Darwin\" and extra == \"all\"->nemo_toolkit->nemo_toolkit[all]) (12.0.0)\n",
            "Requirement already satisfied: torchprofile>=0.0.4 in /usr/local/lib/python3.11/dist-packages (from nvidia-modelopt[torch]<=0.29.0,>=0.27.0; platform_system != \"Darwin\" and extra == \"all\"->nemo_toolkit->nemo_toolkit[all]) (0.0.4)\n",
            "Requirement already satisfied: defusedxml in /usr/local/lib/python3.11/dist-packages (from nvidia-resiliency-ext<1.0.0,>=0.3.0->nemo_toolkit->nemo_toolkit[all]) (0.7.1)\n",
            "Requirement already satisfied: nvidia-ml-py>=12.570.86 in /usr/local/lib/python3.11/dist-packages (from nvidia-resiliency-ext<1.0.0,>=0.3.0->nemo_toolkit->nemo_toolkit[all]) (12.575.51)\n",
            "Requirement already satisfied: psutil>=6.0.0 in /usr/local/lib/python3.11/dist-packages (from nvidia-resiliency-ext<1.0.0,>=0.3.0->nemo_toolkit->nemo_toolkit[all]) (7.0.0)\n",
            "Requirement already satisfied: six>=1.5 in /usr/local/lib/python3.11/dist-packages (from python-dateutil->nemo_toolkit->nemo_toolkit[all]) (1.17.0)\n",
            "Requirement already satisfied: threadpoolctl>=3.1.0 in /usr/local/lib/python3.11/dist-packages (from scikit-learn->nemo_toolkit->nemo_toolkit[all]) (3.6.0)\n",
            "Requirement already satisfied: cffi>=1.0 in /usr/local/lib/python3.11/dist-packages (from soundfile->nemo_toolkit->nemo_toolkit[all]) (1.17.1)\n",
            "Requirement already satisfied: ml_dtypes>=0.3.1 in /usr/local/lib/python3.11/dist-packages (from tensorstore<0.1.72->nemo_toolkit->nemo_toolkit[all]) (0.4.1)\n",
            "Requirement already satisfied: pybind11 in /usr/local/lib/python3.11/dist-packages (from texterrors<1.0.0->nemo_toolkit->nemo_toolkit[all]) (2.13.6)\n",
            "Requirement already satisfied: plac in /usr/local/lib/python3.11/dist-packages (from texterrors<1.0.0->nemo_toolkit->nemo_toolkit[all]) (1.4.5)\n",
            "Requirement already satisfied: loguru in /usr/local/lib/python3.11/dist-packages (from texterrors<1.0.0->nemo_toolkit->nemo_toolkit[all]) (0.7.3)\n",
            "Requirement already satisfied: termcolor in /usr/local/lib/python3.11/dist-packages (from texterrors<1.0.0->nemo_toolkit->nemo_toolkit[all]) (3.1.0)\n",
            "Requirement already satisfied: Levenshtein in /usr/local/lib/python3.11/dist-packages (from texterrors<1.0.0->nemo_toolkit->nemo_toolkit[all]) (0.27.1)\n",
            "Requirement already satisfied: networkx in /usr/local/lib/python3.11/dist-packages (from torch->nemo_toolkit->nemo_toolkit[all]) (3.5)\n",
            "Requirement already satisfied: jinja2 in /usr/local/lib/python3.11/dist-packages (from torch->nemo_toolkit->nemo_toolkit[all]) (3.1.6)\n",
            "Requirement already satisfied: nvidia-cuda-nvrtc-cu12==12.4.127 in /usr/local/lib/python3.11/dist-packages (from torch->nemo_toolkit->nemo_toolkit[all]) (12.4.127)\n",
            "Requirement already satisfied: nvidia-cuda-runtime-cu12==12.4.127 in /usr/local/lib/python3.11/dist-packages (from torch->nemo_toolkit->nemo_toolkit[all]) (12.4.127)\n",
            "Requirement already satisfied: nvidia-cuda-cupti-cu12==12.4.127 in /usr/local/lib/python3.11/dist-packages (from torch->nemo_toolkit->nemo_toolkit[all]) (12.4.127)\n",
            "Requirement already satisfied: nvidia-cudnn-cu12==9.1.0.70 in /usr/local/lib/python3.11/dist-packages (from torch->nemo_toolkit->nemo_toolkit[all]) (9.1.0.70)\n",
            "Requirement already satisfied: nvidia-cublas-cu12==12.4.5.8 in /usr/local/lib/python3.11/dist-packages (from torch->nemo_toolkit->nemo_toolkit[all]) (12.4.5.8)\n",
            "Requirement already satisfied: nvidia-cufft-cu12==11.2.1.3 in /usr/local/lib/python3.11/dist-packages (from torch->nemo_toolkit->nemo_toolkit[all]) (11.2.1.3)\n",
            "Requirement already satisfied: nvidia-curand-cu12==10.3.5.147 in /usr/local/lib/python3.11/dist-packages (from torch->nemo_toolkit->nemo_toolkit[all]) (10.3.5.147)\n",
            "Requirement already satisfied: nvidia-cusolver-cu12==11.6.1.9 in /usr/local/lib/python3.11/dist-packages (from torch->nemo_toolkit->nemo_toolkit[all]) (11.6.1.9)\n",
            "Requirement already satisfied: nvidia-cusparse-cu12==12.3.1.170 in /usr/local/lib/python3.11/dist-packages (from torch->nemo_toolkit->nemo_toolkit[all]) (12.3.1.170)\n",
            "Requirement already satisfied: nvidia-cusparselt-cu12==0.6.2 in /usr/local/lib/python3.11/dist-packages (from torch->nemo_toolkit->nemo_toolkit[all]) (0.6.2)\n",
            "Requirement already satisfied: nvidia-nccl-cu12==2.21.5 in /usr/local/lib/python3.11/dist-packages (from torch->nemo_toolkit->nemo_toolkit[all]) (2.21.5)\n",
            "Requirement already satisfied: nvidia-nvtx-cu12==12.4.127 in /usr/local/lib/python3.11/dist-packages (from torch->nemo_toolkit->nemo_toolkit[all]) (12.4.127)\n",
            "Requirement already satisfied: nvidia-nvjitlink-cu12==12.4.127 in /usr/local/lib/python3.11/dist-packages (from torch->nemo_toolkit->nemo_toolkit[all]) (12.4.127)\n",
            "Requirement already satisfied: triton==3.2.0 in /usr/local/lib/python3.11/dist-packages (from torch->nemo_toolkit->nemo_toolkit[all]) (3.2.0)\n",
            "Requirement already satisfied: sympy==1.13.1 in /usr/local/lib/python3.11/dist-packages (from torch->nemo_toolkit->nemo_toolkit[all]) (1.13.1)\n",
            "Requirement already satisfied: mpmath<1.4,>=1.1.0 in /usr/local/lib/python3.11/dist-packages (from sympy==1.13.1->torch->nemo_toolkit->nemo_toolkit[all]) (1.3.0)\n",
            "Requirement already satisfied: tokenizers<0.22,>=0.21 in /usr/local/lib/python3.11/dist-packages (from transformers<=4.52.0,>=4.51.0->nemo_toolkit->nemo_toolkit[all]) (0.21.1)\n",
            "Requirement already satisfied: asciitree in /usr/local/lib/python3.11/dist-packages (from zarr<3.0.0,>=2.18.2->nemo_toolkit->nemo_toolkit[all]) (0.3.3)\n",
            "Requirement already satisfied: fasteners in /usr/local/lib/python3.11/dist-packages (from zarr<3.0.0,>=2.18.2->nemo_toolkit->nemo_toolkit[all]) (0.19)\n",
            "Requirement already satisfied: numcodecs!=0.14.0,!=0.14.1,<0.16,>=0.10.0 in /usr/local/lib/python3.11/dist-packages (from zarr<3.0.0,>=2.18.2->nemo_toolkit->nemo_toolkit[all]) (0.15.1)\n",
            "Requirement already satisfied: botocore<1.39.0,>=1.38.29 in /usr/local/lib/python3.11/dist-packages (from boto3->nemo_toolkit->nemo_toolkit[all]) (1.38.29)\n",
            "Requirement already satisfied: jmespath<2.0.0,>=0.7.1 in /usr/local/lib/python3.11/dist-packages (from boto3->nemo_toolkit->nemo_toolkit[all]) (1.0.1)\n",
            "Requirement already satisfied: s3transfer<0.14.0,>=0.13.0 in /usr/local/lib/python3.11/dist-packages (from boto3->nemo_toolkit->nemo_toolkit[all]) (0.13.0)\n",
            "Requirement already satisfied: pyarrow>=15.0.0 in /usr/local/lib/python3.11/dist-packages (from datasets->nemo_toolkit->nemo_toolkit[all]) (18.1.0)\n",
            "Requirement already satisfied: dill<0.3.9,>=0.3.0 in /usr/local/lib/python3.11/dist-packages (from datasets->nemo_toolkit->nemo_toolkit[all]) (0.3.7)\n",
            "Requirement already satisfied: xxhash in /usr/local/lib/python3.11/dist-packages (from datasets->nemo_toolkit->nemo_toolkit[all]) (3.5.0)\n",
            "Requirement already satisfied: multiprocess<0.70.17 in /usr/local/lib/python3.11/dist-packages (from datasets->nemo_toolkit->nemo_toolkit[all]) (0.70.15)\n",
            "Requirement already satisfied: absl-py in /usr/local/lib/python3.11/dist-packages (from fiddle->nemo_toolkit->nemo_toolkit[all]) (1.4.0)\n",
            "Requirement already satisfied: graphviz in /usr/local/lib/python3.11/dist-packages (from fiddle->nemo_toolkit->nemo_toolkit[all]) (0.20.3)\n",
            "Requirement already satisfied: libcst in /usr/local/lib/python3.11/dist-packages (from fiddle->nemo_toolkit->nemo_toolkit[all]) (1.8.0)\n",
            "Requirement already satisfied: aniso8601>=0.82 in /usr/local/lib/python3.11/dist-packages (from flask_restful->nemo_toolkit->nemo_toolkit[all]) (10.0.1)\n",
            "Requirement already satisfied: Flask>=0.8 in /usr/local/lib/python3.11/dist-packages (from flask_restful->nemo_toolkit->nemo_toolkit[all]) (3.1.1)\n",
            "Requirement already satisfied: pytz in /usr/local/lib/python3.11/dist-packages (from flask_restful->nemo_toolkit->nemo_toolkit[all]) (2025.2)\n",
            "Requirement already satisfied: wcwidth in /usr/local/lib/python3.11/dist-packages (from ftfy->nemo_toolkit->nemo_toolkit[all]) (0.2.13)\n",
            "Requirement already satisfied: distance>=0.1.3 in /usr/local/lib/python3.11/dist-packages (from g2p_en->nemo_toolkit->nemo_toolkit[all]) (0.1.3)\n",
            "Requirement already satisfied: more_itertools>=8.5.0 in /usr/local/lib/python3.11/dist-packages (from inflect->nemo_toolkit->nemo_toolkit[all]) (10.7.0)\n",
            "Requirement already satisfied: typeguard>=4.0.1 in /usr/local/lib/python3.11/dist-packages (from inflect->nemo_toolkit->nemo_toolkit[all]) (4.4.2)\n",
            "Requirement already satisfied: kornia_rs>=0.1.9 in /usr/local/lib/python3.11/dist-packages (from kornia->nemo_toolkit->nemo_toolkit[all]) (0.1.9)\n",
            "Requirement already satisfied: pytest-cov in /usr/local/lib/python3.11/dist-packages (from megatron_core->nemo_toolkit->nemo_toolkit[all]) (6.1.1)\n",
            "Requirement already satisfied: pytest-random-order in /usr/local/lib/python3.11/dist-packages (from megatron_core->nemo_toolkit->nemo_toolkit[all]) (1.1.1)\n",
            "Requirement already satisfied: catalogue>=2.0.10 in /usr/local/lib/python3.11/dist-packages (from nemo_run->nemo_toolkit->nemo_toolkit[all]) (2.0.10)\n",
            "Requirement already satisfied: cryptography<43.0.0 in /usr/local/lib/python3.11/dist-packages (from nemo_run->nemo_toolkit->nemo_toolkit[all]) (42.0.8)\n",
            "Requirement already satisfied: fabric>=3.2.2 in /usr/local/lib/python3.11/dist-packages (from nemo_run->nemo_toolkit->nemo_toolkit[all]) (3.2.2)\n",
            "Requirement already satisfied: inquirerpy>=0.3.4 in /usr/local/lib/python3.11/dist-packages (from nemo_run->nemo_toolkit->nemo_toolkit[all]) (0.3.4)\n",
            "Requirement already satisfied: torchx>=0.7.0 in /usr/local/lib/python3.11/dist-packages (from nemo_run->nemo_toolkit->nemo_toolkit[all]) (0.7.0)\n",
            "Requirement already satisfied: typer>=0.12.3 in /usr/local/lib/python3.11/dist-packages (from nemo_run->nemo_toolkit->nemo_toolkit[all]) (0.16.0)\n",
            "Requirement already satisfied: pynini==2.1.6.post1 in /usr/local/lib/python3.11/dist-packages (from nemo_text_processing->nemo_toolkit->nemo_toolkit[all]) (2.1.6.post1)\n",
            "Requirement already satisfied: docopt>=0.6.2 in /usr/local/lib/python3.11/dist-packages (from num2words->nemo_toolkit->nemo_toolkit[all]) (0.6.2)\n",
            "Requirement already satisfied: evaluate in /usr/local/lib/python3.11/dist-packages (from nvidia-lm-eval->nemo_toolkit->nemo_toolkit[all]) (0.4.3)\n",
            "Requirement already satisfied: jsonlines in /usr/local/lib/python3.11/dist-packages (from nvidia-lm-eval->nemo_toolkit->nemo_toolkit[all]) (4.0.0)\n",
            "Requirement already satisfied: numexpr in /usr/local/lib/python3.11/dist-packages (from nvidia-lm-eval->nemo_toolkit->nemo_toolkit[all]) (2.10.2)\n",
            "Requirement already satisfied: pytablewriter in /usr/local/lib/python3.11/dist-packages (from nvidia-lm-eval->nemo_toolkit->nemo_toolkit[all]) (1.2.1)\n",
            "Requirement already satisfied: tqdm-multiprocess in /usr/local/lib/python3.11/dist-packages (from nvidia-lm-eval->nemo_toolkit->nemo_toolkit[all]) (0.0.11)\n",
            "Requirement already satisfied: zstandard in /usr/local/lib/python3.11/dist-packages (from nvidia-lm-eval->nemo_toolkit->nemo_toolkit[all]) (0.23.0)\n",
            "Requirement already satisfied: word2number in /usr/local/lib/python3.11/dist-packages (from nvidia-lm-eval->nemo_toolkit->nemo_toolkit[all]) (1.1)\n",
            "Requirement already satisfied: httpx==0.27.0 in /usr/local/lib/python3.11/dist-packages (from nvidia-lm-eval->nemo_toolkit->nemo_toolkit[all]) (0.27.0)\n",
            "Requirement already satisfied: immutabledict==4.2.0 in /usr/local/lib/python3.11/dist-packages (from nvidia-lm-eval->nemo_toolkit->nemo_toolkit[all]) (4.2.0)\n",
            "Requirement already satisfied: aiohttp in /usr/local/lib/python3.11/dist-packages (from nvidia-lm-eval->nemo_toolkit->nemo_toolkit[all]) (3.11.15)\n",
            "Requirement already satisfied: tenacity in /usr/local/lib/python3.11/dist-packages (from nvidia-lm-eval->nemo_toolkit->nemo_toolkit[all]) (9.1.2)\n",
            "Requirement already satisfied: openai==1.61.0 in /usr/local/lib/python3.11/dist-packages (from nvidia-lm-eval->nemo_toolkit->nemo_toolkit[all]) (1.61.0)\n",
            "Requirement already satisfied: soupsieve>1.2 in /usr/local/lib/python3.11/dist-packages (from beautifulsoup4->unstructured==0.14.9->nemo_toolkit->nemo_toolkit[all]) (2.7)\n",
            "Requirement already satisfied: anyio in /usr/local/lib/python3.11/dist-packages (from httpx==0.27.0->nvidia-lm-eval->nemo_toolkit->nemo_toolkit[all]) (4.9.0)\n",
            "Requirement already satisfied: certifi in /usr/local/lib/python3.11/dist-packages (from httpx==0.27.0->nvidia-lm-eval->nemo_toolkit->nemo_toolkit[all]) (2025.4.26)\n",
            "Requirement already satisfied: httpcore==1.* in /usr/local/lib/python3.11/dist-packages (from httpx==0.27.0->nvidia-lm-eval->nemo_toolkit->nemo_toolkit[all]) (1.0.9)\n",
            "Requirement already satisfied: idna in /usr/local/lib/python3.11/dist-packages (from httpx==0.27.0->nvidia-lm-eval->nemo_toolkit->nemo_toolkit[all]) (3.10)\n",
            "Requirement already satisfied: sniffio in /usr/local/lib/python3.11/dist-packages (from httpx==0.27.0->nvidia-lm-eval->nemo_toolkit->nemo_toolkit[all]) (1.3.1)\n",
            "Requirement already satisfied: distro<2,>=1.7.0 in /usr/local/lib/python3.11/dist-packages (from openai==1.61.0->nvidia-lm-eval->nemo_toolkit->nemo_toolkit[all]) (1.9.0)\n",
            "Requirement already satisfied: jiter<1,>=0.4.0 in /usr/local/lib/python3.11/dist-packages (from openai==1.61.0->nvidia-lm-eval->nemo_toolkit->nemo_toolkit[all]) (0.10.0)\n",
            "Requirement already satisfied: h11>=0.16 in /usr/local/lib/python3.11/dist-packages (from httpcore==1.*->httpx==0.27.0->nvidia-lm-eval->nemo_toolkit->nemo_toolkit[all]) (0.16.0)\n",
            "Requirement already satisfied: portalocker in /usr/local/lib/python3.11/dist-packages (from sacrebleu->nemo_toolkit->nemo_toolkit[all]) (3.1.1)\n",
            "Requirement already satisfied: colorama in /usr/local/lib/python3.11/dist-packages (from sacrebleu->nemo_toolkit->nemo_toolkit[all]) (0.4.6)\n",
            "Requirement already satisfied: alembic>=1.5.0 in /usr/local/lib/python3.11/dist-packages (from optuna->nemo_toolkit->nemo_toolkit[all]) (1.16.1)\n",
            "Requirement already satisfied: colorlog in /usr/local/lib/python3.11/dist-packages (from optuna->nemo_toolkit->nemo_toolkit[all]) (6.9.0)\n",
            "Requirement already satisfied: sqlalchemy>=1.4.2 in /usr/local/lib/python3.11/dist-packages (from optuna->nemo_toolkit->nemo_toolkit[all]) (2.0.41)\n",
            "Requirement already satisfied: tzdata>=2022.7 in /usr/local/lib/python3.11/dist-packages (from pandas->nemo_toolkit->nemo_toolkit[all]) (2025.2)\n",
            "Requirement already satisfied: accelerate>=0.21.0 in /usr/local/lib/python3.11/dist-packages (from peft->nemo_toolkit->nemo_toolkit[all]) (1.7.0)\n",
            "Requirement already satisfied: sortedcontainers>=2.0.4 in /usr/local/lib/python3.11/dist-packages (from pyannote.core->nemo_toolkit->nemo_toolkit[all]) (2.4.0)\n",
            "Requirement already satisfied: pyannote.database>=4.0.1 in /usr/local/lib/python3.11/dist-packages (from pyannote.metrics->nemo_toolkit->nemo_toolkit[all]) (5.1.3)\n",
            "Requirement already satisfied: future>=0.16.0 in /usr/local/lib/python3.11/dist-packages (from pyloudnorm->nemo_toolkit->nemo_toolkit[all]) (1.0.0)\n",
            "Requirement already satisfied: iniconfig in /usr/local/lib/python3.11/dist-packages (from pytest->nemo_toolkit->nemo_toolkit[all]) (2.1.0)\n",
            "Requirement already satisfied: pluggy<2,>=1.5 in /usr/local/lib/python3.11/dist-packages (from pytest->nemo_toolkit->nemo_toolkit[all]) (1.6.0)\n",
            "Requirement already satisfied: Werkzeug>=2.0.0 in /usr/local/lib/python3.11/dist-packages (from pytest-httpserver->nemo_toolkit->nemo_toolkit[all]) (3.1.3)\n",
            "Requirement already satisfied: av in /usr/local/lib/python3.11/dist-packages (from qwen_vl_utils->nemo_toolkit->nemo_toolkit[all]) (14.4.0)\n",
            "Requirement already satisfied: ruamel.yaml.clib>=0.2.7 in /usr/local/lib/python3.11/dist-packages (from ruamel.yaml->nemo_toolkit->nemo_toolkit[all]) (0.2.12)\n",
            "Requirement already satisfied: sphinxcontrib-applehelp>=1.0.7 in /usr/local/lib/python3.11/dist-packages (from sphinx->nemo_toolkit->nemo_toolkit[all]) (2.0.0)\n",
            "Requirement already satisfied: sphinxcontrib-devhelp>=1.0.6 in /usr/local/lib/python3.11/dist-packages (from sphinx->nemo_toolkit->nemo_toolkit[all]) (2.0.0)\n",
            "Requirement already satisfied: sphinxcontrib-htmlhelp>=2.0.6 in /usr/local/lib/python3.11/dist-packages (from sphinx->nemo_toolkit->nemo_toolkit[all]) (2.1.0)\n",
            "Requirement already satisfied: sphinxcontrib-jsmath>=1.0.1 in /usr/local/lib/python3.11/dist-packages (from sphinx->nemo_toolkit->nemo_toolkit[all]) (1.0.1)\n",
            "Requirement already satisfied: sphinxcontrib-qthelp>=1.0.6 in /usr/local/lib/python3.11/dist-packages (from sphinx->nemo_toolkit->nemo_toolkit[all]) (2.0.0)\n",
            "Requirement already satisfied: sphinxcontrib-serializinghtml>=1.1.9 in /usr/local/lib/python3.11/dist-packages (from sphinx->nemo_toolkit->nemo_toolkit[all]) (2.0.0)\n",
            "Requirement already satisfied: Pygments>=2.17 in /usr/local/lib/python3.11/dist-packages (from sphinx->nemo_toolkit->nemo_toolkit[all]) (2.19.1)\n",
            "Requirement already satisfied: docutils<0.22,>=0.20 in /usr/local/lib/python3.11/dist-packages (from sphinx->nemo_toolkit->nemo_toolkit[all]) (0.21.2)\n",
            "Requirement already satisfied: snowballstemmer>=2.2 in /usr/local/lib/python3.11/dist-packages (from sphinx->nemo_toolkit->nemo_toolkit[all]) (3.0.1)\n",
            "Requirement already satisfied: babel>=2.13 in /usr/local/lib/python3.11/dist-packages (from sphinx->nemo_toolkit->nemo_toolkit[all]) (2.17.0)\n",
            "Requirement already satisfied: alabaster>=0.7.14 in /usr/local/lib/python3.11/dist-packages (from sphinx->nemo_toolkit->nemo_toolkit[all]) (1.0.0)\n",
            "Requirement already satisfied: imagesize>=1.3 in /usr/local/lib/python3.11/dist-packages (from sphinx->nemo_toolkit->nemo_toolkit[all]) (1.4.1)\n",
            "Requirement already satisfied: roman-numerals-py>=1.0.0 in /usr/local/lib/python3.11/dist-packages (from sphinx->nemo_toolkit->nemo_toolkit[all]) (3.1.0)\n",
            "Requirement already satisfied: pybtex>=0.24 in /usr/local/lib/python3.11/dist-packages (from sphinxcontrib-bibtex->nemo_toolkit->nemo_toolkit[all]) (0.24.0)\n",
            "Requirement already satisfied: pybtex-docutils>=1.0.0 in /usr/local/lib/python3.11/dist-packages (from sphinxcontrib-bibtex->nemo_toolkit->nemo_toolkit[all]) (1.0.3)\n",
            "Requirement already satisfied: grpcio>=1.48.2 in /usr/local/lib/python3.11/dist-packages (from tensorboard->nemo_toolkit->nemo_toolkit[all]) (1.71.0)\n",
            "Requirement already satisfied: markdown>=2.6.8 in /usr/local/lib/python3.11/dist-packages (from tensorboard->nemo_toolkit->nemo_toolkit[all]) (3.8)\n",
            "Requirement already satisfied: tensorboard-data-server<0.8.0,>=0.7.0 in /usr/local/lib/python3.11/dist-packages (from tensorboard->nemo_toolkit->nemo_toolkit[all]) (0.7.2)\n",
            "Requirement already satisfied: trampoline>=0.1.2 in /usr/local/lib/python3.11/dist-packages (from torchsde->nemo_toolkit->nemo_toolkit[all]) (0.1.2)\n",
            "Requirement already satisfied: docker-pycreds>=0.4.0 in /usr/local/lib/python3.11/dist-packages (from wandb->nemo_toolkit->nemo_toolkit[all]) (0.4.0)\n",
            "Requirement already satisfied: gitpython!=3.1.29,>=1.0.0 in /usr/local/lib/python3.11/dist-packages (from wandb->nemo_toolkit->nemo_toolkit[all]) (3.1.44)\n",
            "Requirement already satisfied: sentry-sdk>=2.0.0 in /usr/local/lib/python3.11/dist-packages (from wandb->nemo_toolkit->nemo_toolkit[all]) (2.29.1)\n",
            "Requirement already satisfied: setproctitle in /usr/local/lib/python3.11/dist-packages (from wandb->nemo_toolkit->nemo_toolkit[all]) (1.3.6)\n",
            "Requirement already satisfied: indic-numtowords in /usr/local/lib/python3.11/dist-packages (from whisper_normalizer->nemo_toolkit->nemo_toolkit[all]) (1.0.2)\n",
            "Requirement already satisfied: Mako in /usr/lib/python3/dist-packages (from alembic>=1.5.0->optuna->nemo_toolkit->nemo_toolkit[all]) (1.1.3)\n",
            "Requirement already satisfied: urllib3!=2.2.0,<3,>=1.25.4 in /usr/local/lib/python3.11/dist-packages (from botocore<1.39.0,>=1.38.29->boto3->nemo_toolkit->nemo_toolkit[all]) (1.26.20)\n",
            "Requirement already satisfied: pycparser in /usr/local/lib/python3.11/dist-packages (from cffi>=1.0->soundfile->nemo_toolkit->nemo_toolkit[all]) (2.22)\n",
            "Requirement already satisfied: toolz>=0.8.0 in /usr/local/lib/python3.11/dist-packages (from cytoolz>=0.10.1->lhotse!=1.31.0->nemo_toolkit->nemo_toolkit[all]) (0.12.1)\n",
            "Requirement already satisfied: invoke>=2.0 in /usr/local/lib/python3.11/dist-packages (from fabric>=3.2.2->nemo_run->nemo_toolkit->nemo_toolkit[all]) (2.2.0)\n",
            "Requirement already satisfied: paramiko>=2.4 in /usr/local/lib/python3.11/dist-packages (from fabric>=3.2.2->nemo_run->nemo_toolkit->nemo_toolkit[all]) (3.5.1)\n",
            "Requirement already satisfied: deprecated>=1.2 in /usr/local/lib/python3.11/dist-packages (from fabric>=3.2.2->nemo_run->nemo_toolkit->nemo_toolkit[all]) (1.2.18)\n",
            "Requirement already satisfied: blinker>=1.9.0 in /usr/local/lib/python3.11/dist-packages (from Flask>=0.8->flask_restful->nemo_toolkit->nemo_toolkit[all]) (1.9.0)\n",
            "Requirement already satisfied: itsdangerous>=2.2.0 in /usr/local/lib/python3.11/dist-packages (from Flask>=0.8->flask_restful->nemo_toolkit->nemo_toolkit[all]) (2.2.0)\n",
            "Requirement already satisfied: markupsafe>=2.1.1 in /usr/local/lib/python3.11/dist-packages (from Flask>=0.8->flask_restful->nemo_toolkit->nemo_toolkit[all]) (3.0.2)\n",
            "Requirement already satisfied: aiohappyeyeballs>=2.3.0 in /usr/local/lib/python3.11/dist-packages (from aiohttp->nvidia-lm-eval->nemo_toolkit->nemo_toolkit[all]) (2.6.1)\n",
            "Requirement already satisfied: aiosignal>=1.1.2 in /usr/local/lib/python3.11/dist-packages (from aiohttp->nvidia-lm-eval->nemo_toolkit->nemo_toolkit[all]) (1.3.2)\n",
            "Requirement already satisfied: attrs>=17.3.0 in /usr/local/lib/python3.11/dist-packages (from aiohttp->nvidia-lm-eval->nemo_toolkit->nemo_toolkit[all]) (25.3.0)\n",
            "Requirement already satisfied: frozenlist>=1.1.1 in /usr/local/lib/python3.11/dist-packages (from aiohttp->nvidia-lm-eval->nemo_toolkit->nemo_toolkit[all]) (1.6.0)\n",
            "Requirement already satisfied: multidict<7.0,>=4.5 in /usr/local/lib/python3.11/dist-packages (from aiohttp->nvidia-lm-eval->nemo_toolkit->nemo_toolkit[all]) (6.4.4)\n",
            "Requirement already satisfied: propcache>=0.2.0 in /usr/local/lib/python3.11/dist-packages (from aiohttp->nvidia-lm-eval->nemo_toolkit->nemo_toolkit[all]) (0.3.1)\n",
            "Requirement already satisfied: yarl<2.0,>=1.17.0 in /usr/local/lib/python3.11/dist-packages (from aiohttp->nvidia-lm-eval->nemo_toolkit->nemo_toolkit[all]) (1.20.0)\n",
            "Requirement already satisfied: gitdb<5,>=4.0.1 in /usr/local/lib/python3.11/dist-packages (from gitpython!=3.1.29,>=1.0.0->wandb->nemo_toolkit->nemo_toolkit[all]) (4.0.12)\n",
            "Requirement already satisfied: pfzy<0.4.0,>=0.3.1 in /usr/local/lib/python3.11/dist-packages (from inquirerpy>=0.3.4->nemo_run->nemo_toolkit->nemo_toolkit[all]) (0.3.4)\n",
            "Requirement already satisfied: prompt-toolkit<4.0.0,>=3.0.1 in /usr/local/lib/python3.11/dist-packages (from inquirerpy>=0.3.4->nemo_run->nemo_toolkit->nemo_toolkit[all]) (3.0.51)\n",
            "Requirement already satisfied: jsonschema<5.0,>=4.0 in /usr/local/lib/python3.11/dist-packages (from multi-storage-client>=0.13.0->megatron-energon==5.2.0->nemo_toolkit->nemo_toolkit[all]) (4.24.0)\n",
            "Requirement already satisfied: opentelemetry-api<2.0,>=1.24 in /usr/local/lib/python3.11/dist-packages (from multi-storage-client>=0.13.0->megatron-energon==5.2.0->nemo_toolkit->nemo_toolkit[all]) (1.33.1)\n",
            "Requirement already satisfied: wcmatch<11.0,>=10.0 in /usr/local/lib/python3.11/dist-packages (from multi-storage-client>=0.13.0->megatron-energon==5.2.0->nemo_toolkit->nemo_toolkit[all]) (10.0)\n",
            "Requirement already satisfied: xattr<1.2.0,>=1.1.4 in /usr/local/lib/python3.11/dist-packages (from multi-storage-client>=0.13.0->megatron-energon==5.2.0->nemo_toolkit->nemo_toolkit[all]) (1.1.4)\n",
            "Requirement already satisfied: latexcodec>=1.0.4 in /usr/local/lib/python3.11/dist-packages (from pybtex>=0.24->sphinxcontrib-bibtex->nemo_toolkit->nemo_toolkit[all]) (3.0.0)\n",
            "Requirement already satisfied: annotated-types>=0.6.0 in /usr/local/lib/python3.11/dist-packages (from pydantic>=2.0->nvidia-modelopt<=0.29.0,>=0.27.0->nvidia-modelopt[torch]<=0.29.0,>=0.27.0; platform_system != \"Darwin\" and extra == \"all\"->nemo_toolkit->nemo_toolkit[all]) (0.7.0)\n",
            "Requirement already satisfied: pydantic-core==2.33.2 in /usr/local/lib/python3.11/dist-packages (from pydantic>=2.0->nvidia-modelopt<=0.29.0,>=0.27.0->nvidia-modelopt[torch]<=0.29.0,>=0.27.0; platform_system != \"Darwin\" and extra == \"all\"->nemo_toolkit->nemo_toolkit[all]) (2.33.2)\n",
            "Requirement already satisfied: typing-inspection>=0.4.0 in /usr/local/lib/python3.11/dist-packages (from pydantic>=2.0->nvidia-modelopt<=0.29.0,>=0.27.0->nvidia-modelopt[torch]<=0.29.0,>=0.27.0; platform_system != \"Darwin\" and extra == \"all\"->nemo_toolkit->nemo_toolkit[all]) (0.4.1)\n",
            "Requirement already satisfied: charset-normalizer<4,>=2 in /usr/local/lib/python3.11/dist-packages (from requests>=2.26.0->tiktoken==0.7.0->nemo_toolkit->nemo_toolkit[all]) (3.4.2)\n",
            "Requirement already satisfied: markdown-it-py>=2.2.0 in /usr/local/lib/python3.11/dist-packages (from rich>=12->nerfacc>=0.5.3->nemo_toolkit->nemo_toolkit[all]) (3.0.0)\n",
            "Requirement already satisfied: greenlet>=1 in /usr/local/lib/python3.11/dist-packages (from sqlalchemy>=1.4.2->optuna->nemo_toolkit->nemo_toolkit[all]) (3.2.2)\n",
            "Requirement already satisfied: pyre-extensions in /usr/local/lib/python3.11/dist-packages (from torchx>=0.7.0->nemo_run->nemo_toolkit->nemo_toolkit[all]) (0.0.32)\n",
            "Requirement already satisfied: docstring-parser>=0.8.1 in /usr/local/lib/python3.11/dist-packages (from torchx>=0.7.0->nemo_run->nemo_toolkit->nemo_toolkit[all]) (0.16)\n",
            "Requirement already satisfied: docker in /usr/local/lib/python3.11/dist-packages (from torchx>=0.7.0->nemo_run->nemo_toolkit->nemo_toolkit[all]) (7.1.0)\n",
            "Requirement already satisfied: shellingham>=1.3.0 in /usr/local/lib/python3.11/dist-packages (from typer>=0.12.3->nemo_run->nemo_toolkit->nemo_toolkit[all]) (1.5.4)\n",
            "Requirement already satisfied: typing-inspect<1,>=0.4.0 in /usr/local/lib/python3.11/dist-packages (from dataclasses-json->unstructured==0.14.9->nemo_toolkit->nemo_toolkit[all]) (0.9.0)\n",
            "Requirement already satisfied: zipp>=3.20 in /usr/local/lib/python3.11/dist-packages (from importlib-metadata->diffusers>=0.19.3->nemo_toolkit->nemo_toolkit[all]) (3.22.0)\n",
            "Requirement already satisfied: jedi>=0.16 in /usr/local/lib/python3.11/dist-packages (from ipython->mediapy==1.1.6->nemo_toolkit->nemo_toolkit[all]) (0.19.2)\n",
            "Requirement already satisfied: pickleshare in /usr/local/lib/python3.11/dist-packages (from ipython->mediapy==1.1.6->nemo_toolkit->nemo_toolkit[all]) (0.7.5)\n",
            "Requirement already satisfied: traitlets>=4.2 in /usr/local/lib/python3.11/dist-packages (from ipython->mediapy==1.1.6->nemo_toolkit->nemo_toolkit[all]) (5.7.1)\n",
            "Requirement already satisfied: backcall in /usr/local/lib/python3.11/dist-packages (from ipython->mediapy==1.1.6->nemo_toolkit->nemo_toolkit[all]) (0.2.0)\n",
            "Requirement already satisfied: matplotlib-inline in /usr/local/lib/python3.11/dist-packages (from ipython->mediapy==1.1.6->nemo_toolkit->nemo_toolkit[all]) (0.1.7)\n",
            "Requirement already satisfied: pexpect>4.3 in /usr/local/lib/python3.11/dist-packages (from ipython->mediapy==1.1.6->nemo_toolkit->nemo_toolkit[all]) (4.9.0)\n",
            "Requirement already satisfied: DataProperty<2,>=1.1.0 in /usr/local/lib/python3.11/dist-packages (from pytablewriter->nvidia-lm-eval->nemo_toolkit->nemo_toolkit[all]) (1.1.0)\n",
            "Requirement already satisfied: mbstrdecoder<2,>=1.0.0 in /usr/local/lib/python3.11/dist-packages (from pytablewriter->nvidia-lm-eval->nemo_toolkit->nemo_toolkit[all]) (1.1.4)\n",
            "Requirement already satisfied: pathvalidate<4,>=2.3.0 in /usr/local/lib/python3.11/dist-packages (from pytablewriter->nvidia-lm-eval->nemo_toolkit->nemo_toolkit[all]) (3.2.3)\n",
            "Requirement already satisfied: tabledata<2,>=1.3.1 in /usr/local/lib/python3.11/dist-packages (from pytablewriter->nvidia-lm-eval->nemo_toolkit->nemo_toolkit[all]) (1.3.4)\n",
            "Requirement already satisfied: tcolorpy<1,>=0.0.5 in /usr/local/lib/python3.11/dist-packages (from pytablewriter->nvidia-lm-eval->nemo_toolkit->nemo_toolkit[all]) (0.1.7)\n",
            "Requirement already satisfied: typepy<2,>=1.3.2 in /usr/local/lib/python3.11/dist-packages (from typepy[datetime]<2,>=1.3.2->pytablewriter->nvidia-lm-eval->nemo_toolkit->nemo_toolkit[all]) (1.3.4)\n",
            "Requirement already satisfied: PySocks!=1.5.7,>=1.5.6 in /usr/local/lib/python3.11/dist-packages (from requests[socks]->gdown->nemo_toolkit->nemo_toolkit[all]) (1.7.1)\n",
            "Requirement already satisfied: aiofiles>=24.1.0 in /usr/local/lib/python3.11/dist-packages (from unstructured-client->unstructured==0.14.9->nemo_toolkit->nemo_toolkit[all]) (24.1.0)\n",
            "Requirement already satisfied: nest-asyncio>=1.6.0 in /usr/local/lib/python3.11/dist-packages (from unstructured-client->unstructured==0.14.9->nemo_toolkit->nemo_toolkit[all]) (1.6.0)\n",
            "Requirement already satisfied: pypdf>=4.0 in /usr/local/lib/python3.11/dist-packages (from unstructured-client->unstructured==0.14.9->nemo_toolkit->nemo_toolkit[all]) (5.6.0)\n",
            "Requirement already satisfied: requests-toolbelt>=1.0.0 in /usr/local/lib/python3.11/dist-packages (from unstructured-client->unstructured==0.14.9->nemo_toolkit->nemo_toolkit[all]) (1.0.0)\n",
            "Requirement already satisfied: smmap<6,>=3.0.1 in /usr/local/lib/python3.11/dist-packages (from gitdb<5,>=4.0.1->gitpython!=3.1.29,>=1.0.0->wandb->nemo_toolkit->nemo_toolkit[all]) (5.0.2)\n",
            "Requirement already satisfied: parso<0.9.0,>=0.8.4 in /usr/local/lib/python3.11/dist-packages (from jedi>=0.16->ipython->mediapy==1.1.6->nemo_toolkit->nemo_toolkit[all]) (0.8.4)\n",
            "Requirement already satisfied: jsonschema-specifications>=2023.03.6 in /usr/local/lib/python3.11/dist-packages (from jsonschema<5.0,>=4.0->multi-storage-client>=0.13.0->megatron-energon==5.2.0->nemo_toolkit->nemo_toolkit[all]) (2025.4.1)\n",
            "Requirement already satisfied: referencing>=0.28.4 in /usr/local/lib/python3.11/dist-packages (from jsonschema<5.0,>=4.0->multi-storage-client>=0.13.0->megatron-energon==5.2.0->nemo_toolkit->nemo_toolkit[all]) (0.36.2)\n",
            "Requirement already satisfied: rpds-py>=0.7.1 in /usr/local/lib/python3.11/dist-packages (from jsonschema<5.0,>=4.0->multi-storage-client>=0.13.0->megatron-energon==5.2.0->nemo_toolkit->nemo_toolkit[all]) (0.25.1)\n",
            "Requirement already satisfied: mdurl~=0.1 in /usr/local/lib/python3.11/dist-packages (from markdown-it-py>=2.2.0->rich>=12->nerfacc>=0.5.3->nemo_toolkit->nemo_toolkit[all]) (0.1.2)\n",
            "Requirement already satisfied: bcrypt>=3.2 in /usr/local/lib/python3.11/dist-packages (from paramiko>=2.4->fabric>=3.2.2->nemo_run->nemo_toolkit->nemo_toolkit[all]) (4.3.0)\n",
            "Requirement already satisfied: pynacl>=1.5 in /usr/local/lib/python3.11/dist-packages (from paramiko>=2.4->fabric>=3.2.2->nemo_run->nemo_toolkit->nemo_toolkit[all]) (1.5.0)\n",
            "Requirement already satisfied: ptyprocess>=0.5 in /usr/local/lib/python3.11/dist-packages (from pexpect>4.3->ipython->mediapy==1.1.6->nemo_toolkit->nemo_toolkit[all]) (0.7.0)\n",
            "Requirement already satisfied: bracex>=2.1.1 in /usr/local/lib/python3.11/dist-packages (from wcmatch<11.0,>=10.0->multi-storage-client>=0.13.0->megatron-energon==5.2.0->nemo_toolkit->nemo_toolkit[all]) (2.5.post1)\n"
          ]
        }
      ]
    },
    {
      "cell_type": "markdown",
      "source": [
        "### 0.4. Verifikasi Versi NeMo dan NumPy\n",
        "Setelah instalasi, kita akan memeriksa versi NeMo dan NumPy yang terinstal untuk memastikan semuanya berjalan sesuai harapan."
      ],
      "metadata": {
        "id": "EoYD9jspNLlc"
      }
    },
    {
      "cell_type": "code",
      "source": [
        "import nemo\n",
        "nemo.__version__"
      ],
      "metadata": {
        "colab": {
          "base_uri": "https://localhost:8080/",
          "height": 36
        },
        "id": "Vw02o2fN-BHt",
        "outputId": "e44f47e5-9f5f-4701-99e5-dfe0a2541936"
      },
      "execution_count": null,
      "outputs": [
        {
          "output_type": "execute_result",
          "data": {
            "text/plain": [
              "'2.4.0rc0'"
            ],
            "application/vnd.google.colaboratory.intrinsic+json": {
              "type": "string"
            }
          },
          "metadata": {},
          "execution_count": 83
        }
      ]
    },
    {
      "cell_type": "code",
      "source": [
        "import numpy as np\n",
        "\n",
        "print(np.__version__)"
      ],
      "metadata": {
        "colab": {
          "base_uri": "https://localhost:8080/"
        },
        "id": "F2JIIG9mAocL",
        "outputId": "05a5488c-f05d-46cd-ab85-f1c9afe4887f"
      },
      "execution_count": null,
      "outputs": [
        {
          "output_type": "stream",
          "name": "stdout",
          "text": [
            "1.26.4\n"
          ]
        }
      ]
    },
    {
      "cell_type": "markdown",
      "source": [
        "### 0.5. Instalasi LangChain dan Paket Terkait\n",
        "Selanjutnya, kita menginstal pustaka inti untuk membangun aplikasi LLM:\n",
        "* `langchain`: Framework untuk mengembangkan aplikasi yang ditenagai oleh LLM.\n",
        "* `langgraph`: Ekstensi LangChain untuk membangun agen LLM yang stateful dan multi-aktor.\n",
        "* `langchain_nvidia_ai_endpoints`: Integrasi LangChain dengan NVIDIA AI Foundation Endpoints.\n",
        "\n",
        "*Catatan: Sel ini dijalankan dua kali, sekali dengan `pip` dan sekali dengan `uv pip`. Ini mungkin redundan; salah satu saja (misalnya, `uv pip`) seharusnya cukup.*"
      ],
      "metadata": {
        "id": "8JpaxaSdNPN0"
      }
    },
    {
      "cell_type": "code",
      "source": [
        "# Install langchain dan langchain-nvidia\n",
        "!uv pip install -q langchain langgraph langchain_nvidia_ai_endpoints"
      ],
      "metadata": {
        "id": "O-tDzTDn09Im"
      },
      "execution_count": null,
      "outputs": []
    },
    {
      "cell_type": "code",
      "source": [
        "!uv pip install -U langchain-community"
      ],
      "metadata": {
        "colab": {
          "base_uri": "https://localhost:8080/"
        },
        "id": "L6ntH_1QNX7_",
        "outputId": "2d536526-7662-4e22-d3f5-c13178fceb83"
      },
      "execution_count": null,
      "outputs": [
        {
          "output_type": "stream",
          "name": "stdout",
          "text": [
            "\u001b[2mUsing Python 3.11.12 environment at: /usr\u001b[0m\n",
            "\u001b[2K\u001b[2mResolved \u001b[1m46 packages\u001b[0m \u001b[2min 850ms\u001b[0m\u001b[0m\n",
            "\u001b[2K\u001b[37m⠙\u001b[0m \u001b[2mPreparing packages...\u001b[0m (0/7)\n",
            "\u001b[2K\u001b[1A\u001b[37m⠙\u001b[0m \u001b[2mPreparing packages...\u001b[0m (0/7)\n",
            "\u001b[2K\u001b[1A\u001b[37m⠙\u001b[0m \u001b[2mPreparing packages...\u001b[0m (0/7)\n",
            "\u001b[2K\u001b[1A\u001b[37m⠙\u001b[0m \u001b[2mPreparing packages...\u001b[0m (0/7)\n",
            "\u001b[2K\u001b[1A\u001b[37m⠙\u001b[0m \u001b[2mPreparing packages...\u001b[0m (0/7)\n",
            "\u001b[2K\u001b[1A\u001b[37m⠙\u001b[0m \u001b[2mPreparing packages...\u001b[0m (0/7)\n",
            "\u001b[2K\u001b[1A\u001b[37m⠙\u001b[0m \u001b[2mPreparing packages...\u001b[0m (0/7)\n",
            "\u001b[2K\u001b[1A\u001b[37m⠙\u001b[0m \u001b[2mPreparing packages...\u001b[0m (0/7)\n",
            "\u001b[2K\u001b[1A\u001b[37m⠙\u001b[0m \u001b[2mPreparing packages...\u001b[0m (0/7)\n",
            "\u001b[2murllib3             \u001b[0m \u001b[32m----------------------\u001b[2m--------\u001b[0m\u001b[0m 91.19 KiB/125.66 KiB\n",
            "\u001b[2K\u001b[2A\u001b[37m⠙\u001b[0m \u001b[2mPreparing packages...\u001b[0m (0/7)\n",
            "\u001b[2murllib3             \u001b[0m \u001b[32m----------------------\u001b[2m--------\u001b[0m\u001b[0m 91.19 KiB/125.66 KiB\n",
            "\u001b[2K\u001b[2A\u001b[37m⠙\u001b[0m \u001b[2mPreparing packages...\u001b[0m (0/7)\n",
            "\u001b[2murllib3             \u001b[0m \u001b[32m----------------------\u001b[2m--------\u001b[0m\u001b[0m 91.19 KiB/125.66 KiB\n",
            "\u001b[2K\u001b[2A\u001b[37m⠙\u001b[0m \u001b[2mPreparing packages...\u001b[0m (0/7)\n",
            "\u001b[2murllib3             \u001b[0m \u001b[32m----------------------\u001b[2m--------\u001b[0m\u001b[0m 91.19 KiB/125.66 KiB\n",
            "\u001b[2mlangsmith           \u001b[0m \u001b[32m\u001b[2m------------------------------\u001b[0m\u001b[0m     0 B/353.51 KiB\n",
            "\u001b[2K\u001b[3A\u001b[37m⠙\u001b[0m \u001b[2mPreparing packages...\u001b[0m (0/7)\n",
            "\u001b[2murllib3             \u001b[0m \u001b[32m----------------------\u001b[2m--------\u001b[0m\u001b[0m 91.19 KiB/125.66 KiB\n",
            "\u001b[2mlangsmith           \u001b[0m \u001b[32m\u001b[2m------------------------------\u001b[0m\u001b[0m     0 B/353.51 KiB\n",
            "\u001b[2K\u001b[3A\u001b[37m⠙\u001b[0m \u001b[2mPreparing packages...\u001b[0m (0/7)\n",
            "\u001b[2murllib3             \u001b[0m \u001b[32m----------------------\u001b[2m--------\u001b[0m\u001b[0m 91.19 KiB/125.66 KiB\n",
            "\u001b[2mlangsmith           \u001b[0m \u001b[32m\u001b[2m------------------------------\u001b[0m\u001b[0m     0 B/353.51 KiB\n",
            "\u001b[2K\u001b[3A\u001b[37m⠙\u001b[0m \u001b[2mPreparing packages...\u001b[0m (0/7)\n",
            "\u001b[2murllib3             \u001b[0m \u001b[32m----------------------\u001b[2m--------\u001b[0m\u001b[0m 91.19 KiB/125.66 KiB\n",
            "\u001b[2mlangsmith           \u001b[0m \u001b[32m\u001b[2m------------------------------\u001b[0m\u001b[0m     0 B/353.51 KiB\n",
            "\u001b[2K\u001b[3A\u001b[37m⠙\u001b[0m \u001b[2mPreparing packages...\u001b[0m (0/7)\n",
            "\u001b[2mhttpx               \u001b[0m \u001b[32m\u001b[2m------------------------------\u001b[0m\u001b[0m     0 B/71.79 KiB\n",
            "\u001b[2murllib3             \u001b[0m \u001b[32m----------------------\u001b[2m--------\u001b[0m\u001b[0m 91.19 KiB/125.66 KiB\n",
            "\u001b[2mlangsmith           \u001b[0m \u001b[32m\u001b[2m------------------------------\u001b[0m\u001b[0m     0 B/353.51 KiB\n",
            "\u001b[2K\u001b[4A\u001b[37m⠙\u001b[0m \u001b[2mPreparing packages...\u001b[0m (0/7)\n",
            "\u001b[2mhttpx               \u001b[0m \u001b[32m\u001b[2m------------------------------\u001b[0m\u001b[0m     0 B/71.79 KiB\n",
            "\u001b[2murllib3             \u001b[0m \u001b[32m----------------------\u001b[2m--------\u001b[0m\u001b[0m 91.19 KiB/125.66 KiB\n",
            "\u001b[2mlangsmith           \u001b[0m \u001b[32m--\u001b[2m----------------------------\u001b[0m\u001b[0m 16.00 KiB/353.51 KiB\n",
            "\u001b[2K\u001b[4A\u001b[37m⠙\u001b[0m \u001b[2mPreparing packages...\u001b[0m (0/7)\n",
            "\u001b[2mtyping-extensions   \u001b[0m \u001b[32m------------------------------\u001b[2m\u001b[0m\u001b[0m 42.81 KiB/42.81 KiB\n",
            "\u001b[2mhttpx               \u001b[0m \u001b[32m-------------\u001b[2m-----------------\u001b[0m\u001b[0m 30.88 KiB/71.79 KiB\n",
            "\u001b[2mfrozenlist          \u001b[0m \u001b[32m---\u001b[2m---------------------------\u001b[0m\u001b[0m 16.00 KiB/230.80 KiB\n",
            "\u001b[2mlangsmith           \u001b[0m \u001b[32m-----\u001b[2m-------------------------\u001b[0m\u001b[0m 48.00 KiB/353.51 KiB\n",
            "\u001b[2maiohttp             \u001b[0m \u001b[32m-\u001b[2m-----------------------------\u001b[0m\u001b[0m 14.91 KiB/1.65 MiB\n",
            "\u001b[2K\u001b[6A\u001b[37m⠙\u001b[0m \u001b[2mPreparing packages...\u001b[0m (0/7)\n",
            "\u001b[2mtyping-extensions   \u001b[0m \u001b[32m------------------------------\u001b[2m\u001b[0m\u001b[0m 42.81 KiB/42.81 KiB\n",
            "\u001b[2mfrozenlist          \u001b[0m \u001b[32m---\u001b[2m---------------------------\u001b[0m\u001b[0m 16.00 KiB/230.80 KiB\n",
            "\u001b[2mlangsmith           \u001b[0m \u001b[32m-----\u001b[2m-------------------------\u001b[0m\u001b[0m 48.00 KiB/353.51 KiB\n",
            "\u001b[2maiohttp             \u001b[0m \u001b[32m-\u001b[2m-----------------------------\u001b[0m\u001b[0m 14.91 KiB/1.65 MiB\n",
            "\u001b[2K\u001b[5A\u001b[37m⠙\u001b[0m \u001b[2mPreparing packages...\u001b[0m (0/7)\n",
            "\u001b[2mfrozenlist          \u001b[0m \u001b[32m------------------------------\u001b[2m\u001b[0m\u001b[0m 223.94 KiB/230.80 KiB\n",
            "\u001b[2mlangsmith           \u001b[0m \u001b[32m----------\u001b[2m--------------------\u001b[0m\u001b[0m 109.89 KiB/353.51 KiB\n",
            "\u001b[2maiohttp             \u001b[0m \u001b[32m-----\u001b[2m-------------------------\u001b[0m\u001b[0m 238.91 KiB/1.65 MiB\n",
            "\u001b[2K\u001b[4A\u001b[37m⠙\u001b[0m \u001b[2mPreparing packages...\u001b[0m (0/7)\n",
            "\u001b[2mlangsmith           \u001b[0m \u001b[32m-------------\u001b[2m-----------------\u001b[0m\u001b[0m 141.89 KiB/353.51 KiB\n",
            "\u001b[2maiohttp             \u001b[0m \u001b[32m-----------\u001b[2m-------------------\u001b[0m\u001b[0m 584.56 KiB/1.65 MiB\n",
            "\u001b[2K\u001b[3A\u001b[37m⠙\u001b[0m \u001b[2mPreparing packages...\u001b[0m (0/7)\n",
            "\u001b[2mlangsmith           \u001b[0m \u001b[32m-------------\u001b[2m-----------------\u001b[0m\u001b[0m 141.89 KiB/353.51 KiB\n",
            "\u001b[2maiohttp             \u001b[0m \u001b[32m------------\u001b[2m------------------\u001b[0m\u001b[0m 648.46 KiB/1.65 MiB\n",
            "\u001b[2K\u001b[3A\u001b[37m⠙\u001b[0m \u001b[2mPreparing packages...\u001b[0m (0/7)\n",
            "\u001b[2maiohttp             \u001b[0m \u001b[32m-------------\u001b[2m-----------------\u001b[0m\u001b[0m 712.56 KiB/1.65 MiB\n",
            "\u001b[2K\u001b[2A\u001b[37m⠙\u001b[0m \u001b[2mPreparing packages...\u001b[0m (0/7)\n",
            "\u001b[2maiohttp             \u001b[0m \u001b[32m------------------------------\u001b[2m\u001b[0m\u001b[0m 1.65 MiB/1.65 MiB\n",
            "\u001b[2K\u001b[2A\u001b[37m⠙\u001b[0m \u001b[2mPreparing packages...\u001b[0m (0/7)\n",
            "\u001b[2K\u001b[1A\u001b[37m⠙\u001b[0m \u001b[2mPreparing packages...\u001b[0m (0/7)\n",
            "\u001b[2K\u001b[1A\u001b[37m⠙\u001b[0m \u001b[2mPreparing packages...\u001b[0m (0/7)\n",
            "\u001b[2K\u001b[1A\u001b[37m⠹\u001b[0m \u001b[2mPreparing packages...\u001b[0m (6/7)\n",
            "\u001b[2K\u001b[1A\u001b[37m⠹\u001b[0m \u001b[2mPreparing packages...\u001b[0m (6/7)\n",
            "\u001b[2K\u001b[1A\u001b[37m⠹\u001b[0m \u001b[2mPreparing packages...\u001b[0m (6/7)\n",
            "\u001b[2K\u001b[1A\u001b[37m⠹\u001b[0m \u001b[2mPreparing packages...\u001b[0m (6/7)\n",
            "\u001b[2K\u001b[2mPrepared \u001b[1m7 packages\u001b[0m \u001b[2min 450ms\u001b[0m\u001b[0m\n",
            "\u001b[2mUninstalled \u001b[1m7 packages\u001b[0m \u001b[2min 66ms\u001b[0m\u001b[0m\n",
            "\u001b[2K\u001b[2mInstalled \u001b[1m7 packages\u001b[0m \u001b[2min 25ms\u001b[0m\u001b[0m\n",
            " \u001b[31m-\u001b[39m \u001b[1maiohttp\u001b[0m\u001b[2m==3.11.15\u001b[0m\n",
            " \u001b[32m+\u001b[39m \u001b[1maiohttp\u001b[0m\u001b[2m==3.12.8\u001b[0m\n",
            " \u001b[31m-\u001b[39m \u001b[1mfrozenlist\u001b[0m\u001b[2m==1.6.0\u001b[0m\n",
            " \u001b[32m+\u001b[39m \u001b[1mfrozenlist\u001b[0m\u001b[2m==1.6.2\u001b[0m\n",
            " \u001b[31m-\u001b[39m \u001b[1mhttpx\u001b[0m\u001b[2m==0.27.0\u001b[0m\n",
            " \u001b[32m+\u001b[39m \u001b[1mhttpx\u001b[0m\u001b[2m==0.28.1\u001b[0m\n",
            " \u001b[31m-\u001b[39m \u001b[1mlangsmith\u001b[0m\u001b[2m==0.3.43\u001b[0m\n",
            " \u001b[32m+\u001b[39m \u001b[1mlangsmith\u001b[0m\u001b[2m==0.3.44\u001b[0m\n",
            " \u001b[31m-\u001b[39m \u001b[1mnumpy\u001b[0m\u001b[2m==1.26.4\u001b[0m\n",
            " \u001b[32m+\u001b[39m \u001b[1mnumpy\u001b[0m\u001b[2m==2.2.6\u001b[0m\n",
            " \u001b[31m-\u001b[39m \u001b[1mtyping-extensions\u001b[0m\u001b[2m==4.13.2\u001b[0m\n",
            " \u001b[32m+\u001b[39m \u001b[1mtyping-extensions\u001b[0m\u001b[2m==4.14.0\u001b[0m\n",
            " \u001b[31m-\u001b[39m \u001b[1murllib3\u001b[0m\u001b[2m==1.26.20\u001b[0m\n",
            " \u001b[32m+\u001b[39m \u001b[1murllib3\u001b[0m\u001b[2m==2.4.0\u001b[0m\n"
          ]
        }
      ]
    },
    {
      "cell_type": "markdown",
      "source": [
        "### 0.6. Impor Pustaka yang Dibutuhkan\n",
        "Mengimpor semua modul Python yang akan digunakan sepanjang notebook.\n",
        "\n",
        "*Catatan: Output sel ini mungkin menunjukkan `LangChainDeprecationWarning` terkait `langchain_core.pydantic_v1`. Ini adalah pengingat untuk memperbarui ke Pydantic v2 jika memungkinkan di masa mendatang, tetapi untuk saat ini, kode masih akan berfungsi.*"
      ],
      "metadata": {
        "id": "jUsKmmXANnmC"
      }
    },
    {
      "cell_type": "code",
      "source": [
        "import os\n",
        "import pandas as pd\n",
        "import json\n",
        "import requests\n",
        "from langchain_nvidia_ai_endpoints import ChatNVIDIA\n",
        "from langchain_core.pydantic_v1 import BaseModel, Field\n",
        "from langchain_core.tools import tool\n",
        "from langchain_core.runnables import RunnableLambda\n",
        "from langchain_core.prompts import ChatPromptTemplate\n",
        "from langgraph.prebuilt import create_react_agent\n",
        "from langchain.vectorstores import FAISS\n",
        "from langchain.embeddings import HuggingFaceEmbeddings\n",
        "from langchain.chains import RetrievalQA\n",
        "from langchain_nvidia_ai_endpoints import ChatNVIDIA\n",
        "from IPython.display import Image, display"
      ],
      "metadata": {
        "id": "DR2E-6TG02zE"
      },
      "execution_count": null,
      "outputs": []
    },
    {
      "cell_type": "markdown",
      "source": [
        "# 1. DATA LOADING"
      ],
      "metadata": {
        "id": "sril5bFZ0o6e"
      }
    },
    {
      "cell_type": "markdown",
      "source": [
        "### 1.1. Memuat Dataset dari Hugging Face Hub\n",
        "Dataset rekomendasi outfit (`new_data.csv`) dimuat langsung dari Hugging Face Hub menggunakan path `hf://`. Pandas akan menangani pengunduhan dan parsing file CSV ke dalam DataFrame."
      ],
      "metadata": {
        "id": "DpM0F7cnN1-g"
      }
    },
    {
      "cell_type": "code",
      "source": [
        "df = pd.read_csv(\"hf://datasets/formido/outfit_recomendation/new_data.csv\")"
      ],
      "metadata": {
        "id": "8YOU84Lu1CX6"
      },
      "execution_count": null,
      "outputs": []
    },
    {
      "cell_type": "markdown",
      "source": [
        "### 1.2. Inspeksi Struktur Dataset\n",
        "Menampilkan informasi ringkas tentang DataFrame, termasuk tipe data setiap kolom dan jumlah nilai non-null. Ini membantu memahami struktur data awal."
      ],
      "metadata": {
        "id": "6A8uGEtgN7RK"
      }
    },
    {
      "cell_type": "code",
      "source": [
        "df.info()"
      ],
      "metadata": {
        "colab": {
          "base_uri": "https://localhost:8080/"
        },
        "id": "-qmj24G9N8K2",
        "outputId": "eea8d252-f211-466a-a315-b81d256f4212"
      },
      "execution_count": null,
      "outputs": [
        {
          "output_type": "stream",
          "name": "stdout",
          "text": [
            "<class 'pandas.core.frame.DataFrame'>\n",
            "RangeIndex: 3193 entries, 0 to 3192\n",
            "Data columns (total 3 columns):\n",
            " #   Column       Non-Null Count  Dtype \n",
            "---  ------       --------------  ----- \n",
            " 0   instruction  3186 non-null   object\n",
            " 1   input        3193 non-null   object\n",
            " 2   output       3193 non-null   object\n",
            "dtypes: object(3)\n",
            "memory usage: 75.0+ KB\n"
          ]
        }
      ]
    },
    {
      "cell_type": "markdown",
      "source": [
        "### 1.3. Pra-pemrosesan dan Konversi Data ke Format JSONL\n",
        "\n",
        "Untuk digunakan dalam sistem, data perlu diproses:\n",
        "1.  **Kombinasi Prompt:** Kolom `instruction` dan `input` dari dataset digabungkan menjadi satu string prompt tunggal, dipisahkan oleh token `[SEP]`. Fungsi `combine_prompt` menangani nilai yang mungkin hilang (NaN).\n",
        "2.  **Format JSONL:** Setiap baris data diubah menjadi objek JSON dengan dua kunci:\n",
        "    * `text`: Berisi prompt gabungan.\n",
        "    * `response`: Berisi kolom `output` dari dataset.\n",
        "3.  **Penyimpanan:** Data yang telah diproses disimpan dalam format JSON Lines (`.jsonl`), di mana setiap baris adalah objek JSON yang valid. Format ini umum digunakan untuk dataset LLM. Entri hanya disimpan jika `prompt` dan `output` keduanya valid (tidak kosong)."
      ],
      "metadata": {
        "id": "UdJV6YL6N_ba"
      }
    },
    {
      "cell_type": "markdown",
      "source": [
        "### 1.3. Pra-pemrosesan dan Konversi Data ke Format JSONL\n",
        "\n",
        "Untuk digunakan dalam sistem RAG (atau potensi fine-tuning LLM), data perlu diproses:\n",
        "1.  **Kombinasi Prompt:** Kolom `instruction` dan `input` dari dataset digabungkan menjadi satu string prompt tunggal, dipisahkan oleh token `[SEP]`. Fungsi `combine_prompt` menangani nilai yang mungkin hilang (NaN).\n",
        "2.  **Format JSONL:** Setiap baris data diubah menjadi objek JSON dengan dua kunci:\n",
        "    * `text`: Berisi prompt gabungan.\n",
        "    * `response`: Berisi kolom `output` dari dataset.\n",
        "3.  **Penyimpanan:** Data yang telah diproses disimpan dalam format JSON Lines (`.jsonl`), di mana setiap baris adalah objek JSON yang valid. Format ini umum digunakan untuk dataset LLM. Entri hanya disimpan jika `prompt` dan `output` keduanya valid (tidak kosong)."
      ],
      "metadata": {
        "id": "kt_0g_tXOF32"
      }
    },
    {
      "cell_type": "code",
      "source": [
        "def combine_prompt(row):\n",
        "    instr = str(row.get('instruction', '')).strip() if pd.notna(row.get('instruction')) else ''\n",
        "    inp = str(row.get('input', '')).strip() if pd.notna(row.get('input')) else ''\n",
        "    return f\"{instr} [SEP] {inp}\".strip()\n",
        "\n",
        "jsonl_data = []\n",
        "\n",
        "for _, row in df.iterrows():\n",
        "    prompt = combine_prompt(row)\n",
        "    output = str(row.get(\"output\", \"\")).strip() if pd.notna(row.get(\"output\")) else \"\"\n",
        "\n",
        "    if prompt and output:\n",
        "        jsonl_data.append({\n",
        "            \"text\": prompt,\n",
        "            \"response\": output\n",
        "        })\n",
        "\n",
        "output_path = \"outfit_recommendation_dataset.jsonl\"\n",
        "\n",
        "with open(output_path, 'w', encoding='utf-8') as f:\n",
        "    for entry in jsonl_data:\n",
        "        f.write(json.dumps(entry, ensure_ascii=False) + '\\n')\n",
        "\n",
        "print(f\"✅ Berhasil dikonversi ke: {output_path}, total entri: {len(jsonl_data)}\")"
      ],
      "metadata": {
        "colab": {
          "base_uri": "https://localhost:8080/"
        },
        "id": "czPCAhs81sKa",
        "outputId": "6159eef8-2bbb-44c6-aa22-bd41e2c34b6c"
      },
      "execution_count": null,
      "outputs": [
        {
          "output_type": "stream",
          "name": "stdout",
          "text": [
            "✅ Berhasil dikonversi ke: outfit_recommendation_dataset.jsonl, total entri: 3193\n"
          ]
        }
      ]
    },
    {
      "cell_type": "markdown",
      "source": [
        "# 2. MEMBANGUN SISTEM\n",
        "\n",
        "Bagian ini akan fokus pada pembangunan komponen inti dari sistem RAG:\n",
        "1.  Memuat teks yang telah diproses (prompt dari dataset).\n",
        "2.  Menginisialisasi model embedding untuk mengubah teks menjadi vektor.\n",
        "3.  Membuat vector store (FAISS) untuk menyimpan dan mencari vektor teks secara efisien.\n",
        "4.  Mengkonfigurasi LLM dari NVIDIA.\n",
        "5.  Menggabungkan retriever dan LLM menjadi sebuah chain.\n",
        "\n",
        "### 2.1. Memuat Teks untuk Vector Store\n",
        "Teks (prompt gabungan) yang sebelumnya disimpan dalam file `outfit_recommendation_dataset.jsonl` dimuat ke dalam list. Teks-teks ini akan digunakan untuk membangun vector store."
      ],
      "metadata": {
        "id": "9wVqwvDqOMgc"
      }
    },
    {
      "cell_type": "code",
      "source": [
        "jsonl_path = \"outfit_recommendation_dataset.jsonl\"\n",
        "\n",
        "texts = []\n",
        "for line in open(jsonl_path, 'r', encoding='utf-8'):\n",
        "    obj = json.loads(line)\n",
        "    texts.append(obj[\"text\"])"
      ],
      "metadata": {
        "id": "nGlai1UeKwo3"
      },
      "execution_count": null,
      "outputs": []
    },
    {
      "cell_type": "markdown",
      "source": [
        "### 2.2. Inisialisasi Model Embeddings dan Membuat Vector Store\n",
        "\n",
        "1.  **Model Embeddings:**\n",
        "    * Kita menggunakan model `sentence-transformers/all-MiniLM-L6-v2` dari Hugging Face. Model ini efisien dan memberikan embedding berkualitas baik untuk teks.\n",
        "    * `HuggingFaceEmbeddings` dari LangChain digunakan untuk memuat model ini, dengan `model_kwargs={\"device\": \"cuda\"}` untuk memastikan pemrosesan berjalan di GPU jika tersedia.\n",
        "    * *Catatan Deprekasi:* `HuggingFaceEmbeddings` dari `langchain.embeddings` telah dipindahkan. Sebaiknya gunakan versi dari `langchain_community.embeddings` atau `langchain_huggingface`.\n",
        "2.  **Vector Store (FAISS):**\n",
        "    * FAISS (Facebook AI Similarity Search) adalah library untuk pencarian kemiripan yang efisien dan clustering vektor padat.\n",
        "    * `FAISS.from_texts()` digunakan untuk membuat vector store langsung dari list `texts` dan model `embeddings` yang telah diinisialisasi. Setiap teks akan diubah menjadi vektor embedding dan diindeks oleh FAISS.\n",
        "    * *Catatan Deprekasi:* `FAISS` dari `langchain.vectorstores` telah dipindahkan. Sebaiknya gunakan versi dari `langchain_community.vectorstores`.\n",
        "\n",
        "Output dari sel ini akan menampilkan progress bar saat model embedding diunduh (jika belum ada di cache) dan saat teks-teks di-embed dan diindeks."
      ],
      "metadata": {
        "id": "MfeZ-UieOmJG"
      }
    },
    {
      "cell_type": "code",
      "source": [
        "embedding_model_name = \"sentence-transformers/all-MiniLM-L6-v2\"\n",
        "embeddings = HuggingFaceEmbeddings(model_name=embedding_model_name, model_kwargs={\"device\": \"cuda\"})\n",
        "\n",
        "vectorstore = FAISS.from_texts(texts, embeddings)"
      ],
      "metadata": {
        "id": "oh1h7AKZK0uT"
      },
      "execution_count": null,
      "outputs": []
    },
    {
      "cell_type": "markdown",
      "source": [
        "### 2.3. Konfigurasi LLM dari NVIDIA AI Endpoints\n",
        "\n",
        "Di sini, kita akan mengkonfigurasi Large Language Model (LLM) yang akan digunakan untuk menghasilkan jawaban. Kita menggunakan `ChatNVIDIA` dari `langchain_nvidia_ai_endpoints`.\n",
        "\n",
        "* **`base_url`**: URL endpoint untuk NVIDIA API.\n",
        "* **`api_key`**: Kunci API Anda untuk NVIDIA. **PENTING:** Ganti nilai placeholder di bawah ini dengan API key Anda yang sebenarnya, atau lebih baik lagi, gunakan Colab Secrets seperti yang dijelaskan sebelumnya.\n",
        "* **`model`**: Nama model yang akan digunakan. Anda dapat menemukan daftar model yang tersedia di [NVIDIA AI Foundation Models Dashboard](https://build.nvidia.com/explore/discover). Model yang dipilih di sini adalah `nvidia/llama-3.1-nemotron-nano-vl-8b-v1`.\n",
        "* **`temperature`**: Mengontrol kreativitas output. Nilai yang lebih rendah (misalnya, 0.3) menghasilkan output yang lebih deterministik dan fokus.\n",
        "\n"
      ],
      "metadata": {
        "id": "EhyIF9gDPWrW"
      }
    },
    {
      "cell_type": "code",
      "source": [
        "from google.colab import userdata"
      ],
      "metadata": {
        "id": "VoSwbeXNPSBZ"
      },
      "execution_count": null,
      "outputs": []
    },
    {
      "cell_type": "code",
      "source": [
        "base_url = \"https://integrate.api.nvidia.com/v1\"\n",
        "api_key = userdata.get('NVIDIA_API_KEY')\n",
        "\n",
        "model = \"nvidia/llama-3.1-nemotron-nano-vl-8b-v1\"\n",
        "\n",
        "llm = ChatNVIDIA(\n",
        "    base_url=base_url,\n",
        "    model=model,\n",
        "    temperature=0.3,\n",
        "    api_key=api_key\n",
        ")"
      ],
      "metadata": {
        "id": "0TbwSNwi2QSF",
        "colab": {
          "base_uri": "https://localhost:8080/"
        },
        "outputId": "d76e36ef-0cc4-495b-b12e-438cf94d391f"
      },
      "execution_count": null,
      "outputs": [
        {
          "output_type": "stream",
          "name": "stderr",
          "text": [
            "/usr/local/lib/python3.11/dist-packages/langchain_nvidia_ai_endpoints/_common.py:217: UserWarning: Found nvidia/llama-3.1-nemotron-nano-vl-8b-v1 in available_models, but type is unknown and inference may fail.\n",
            "  warnings.warn(\n"
          ]
        }
      ]
    },
    {
      "cell_type": "markdown",
      "source": [
        "### 2.4. (Opsional) Verifikasi API Key dan Daftar Model\n",
        "Sel ini melakukan panggilan langsung ke endpoint NVIDIA API untuk mengambil daftar model yang tersedia. Ini adalah cara yang baik untuk memverifikasi bahwa API key Anda valid dan dapat mengakses layanan. Jika `response.status_code` adalah `200`, koneksi berhasil. Output juga akan menampilkan daftar model dalam format JSON."
      ],
      "metadata": {
        "id": "9tOWJSFQP-Et"
      }
    },
    {
      "cell_type": "code",
      "source": [
        "headers = {\"Authorization\": f\"Bearer {api_key}\"}\n",
        "response = requests.get(\"https://integrate.api.nvidia.com/v1/models\", headers=headers)\n",
        "print(response.status_code)\n",
        "print(response.text)"
      ],
      "metadata": {
        "colab": {
          "base_uri": "https://localhost:8080/"
        },
        "id": "9AhzXlsrLary",
        "outputId": "5011816f-fa99-4fad-ed96-9457e893d927"
      },
      "execution_count": null,
      "outputs": [
        {
          "output_type": "stream",
          "name": "stdout",
          "text": [
            "200\n",
            "{\"object\":\"list\",\"data\":[{\"id\":\"01-ai/yi-large\",\"object\":\"model\",\"created\":735790403,\"owned_by\":\"01-ai\"},{\"id\":\"abacusai/dracarys-llama-3.1-70b-instruct\",\"object\":\"model\",\"created\":735790403,\"owned_by\":\"abacusai\"},{\"id\":\"adept/fuyu-8b\",\"object\":\"model\",\"created\":735790403,\"owned_by\":\"adept\"},{\"id\":\"ai21labs/jamba-1.5-large-instruct\",\"object\":\"model\",\"created\":735790403,\"owned_by\":\"ai21labs\"},{\"id\":\"ai21labs/jamba-1.5-mini-instruct\",\"object\":\"model\",\"created\":735790403,\"owned_by\":\"ai21labs\"},{\"id\":\"aisingapore/sea-lion-7b-instruct\",\"object\":\"model\",\"created\":735790403,\"owned_by\":\"aisingapore\"},{\"id\":\"baai/bge-m3\",\"object\":\"model\",\"created\":735790403,\"owned_by\":\"baai\"},{\"id\":\"baichuan-inc/baichuan2-13b-chat\",\"object\":\"model\",\"created\":735790403,\"owned_by\":\"baichuan-inc\"},{\"id\":\"bigcode/starcoder2-15b\",\"object\":\"model\",\"created\":735790403,\"owned_by\":\"bigcode\"},{\"id\":\"bigcode/starcoder2-7b\",\"object\":\"model\",\"created\":735790403,\"owned_by\":\"bigcode\"},{\"id\":\"databricks/dbrx-instruct\",\"object\":\"model\",\"created\":735790403,\"owned_by\":\"databricks\"},{\"id\":\"deepseek-ai/deepseek-coder-6.7b-instruct\",\"object\":\"model\",\"created\":735790403,\"owned_by\":\"deepseek-ai\"},{\"id\":\"deepseek-ai/deepseek-r1\",\"object\":\"model\",\"created\":735790403,\"owned_by\":\"deepseek-ai\"},{\"id\":\"deepseek-ai/deepseek-r1-distill-llama-8b\",\"object\":\"model\",\"created\":735790403,\"owned_by\":\"deepseek-ai\"},{\"id\":\"deepseek-ai/deepseek-r1-distill-qwen-14b\",\"object\":\"model\",\"created\":735790403,\"owned_by\":\"deepseek-ai\"},{\"id\":\"deepseek-ai/deepseek-r1-distill-qwen-32b\",\"object\":\"model\",\"created\":735790403,\"owned_by\":\"deepseek-ai\"},{\"id\":\"deepseek-ai/deepseek-r1-distill-qwen-7b\",\"object\":\"model\",\"created\":735790403,\"owned_by\":\"deepseek-ai\"},{\"id\":\"google/codegemma-1.1-7b\",\"object\":\"model\",\"created\":735790403,\"owned_by\":\"google\"},{\"id\":\"google/codegemma-7b\",\"object\":\"model\",\"created\":735790403,\"owned_by\":\"google\"},{\"id\":\"google/deplot\",\"object\":\"model\",\"created\":735790403,\"owned_by\":\"google\"},{\"id\":\"google/gemma-2-27b-it\",\"object\":\"model\",\"created\":735790403,\"owned_by\":\"google\"},{\"id\":\"google/gemma-2-2b-it\",\"object\":\"model\",\"created\":735790403,\"owned_by\":\"google\"},{\"id\":\"google/gemma-2-9b-it\",\"object\":\"model\",\"created\":735790403,\"owned_by\":\"google\"},{\"id\":\"google/gemma-2b\",\"object\":\"model\",\"created\":735790403,\"owned_by\":\"google\"},{\"id\":\"google/gemma-3-12b-it\",\"object\":\"model\",\"created\":735790403,\"owned_by\":\"google\"},{\"id\":\"google/gemma-3-1b-it\",\"object\":\"model\",\"created\":735790403,\"owned_by\":\"google\"},{\"id\":\"google/gemma-3-27b-it\",\"object\":\"model\",\"created\":735790403,\"owned_by\":\"google\"},{\"id\":\"google/gemma-3-4b-it\",\"object\":\"model\",\"created\":735790403,\"owned_by\":\"google\"},{\"id\":\"google/gemma-7b\",\"object\":\"model\",\"created\":735790403,\"owned_by\":\"google\"},{\"id\":\"google/paligemma\",\"object\":\"model\",\"created\":735790403,\"owned_by\":\"google\"},{\"id\":\"google/recurrentgemma-2b\",\"object\":\"model\",\"created\":735790403,\"owned_by\":\"google\"},{\"id\":\"google/shieldgemma-9b\",\"object\":\"model\",\"created\":735790403,\"owned_by\":\"google\"},{\"id\":\"gotocompany/gemma-2-9b-cpt-sahabatai-instruct\",\"object\":\"model\",\"created\":735790403,\"owned_by\":\"gotocompany\"},{\"id\":\"ibm/granite-3.0-3b-a800m-instruct\",\"object\":\"model\",\"created\":735790403,\"owned_by\":\"ibm\"},{\"id\":\"ibm/granite-3.0-8b-instruct\",\"object\":\"model\",\"created\":735790403,\"owned_by\":\"ibm\"},{\"id\":\"ibm/granite-3.3-8b-instruct\",\"object\":\"model\",\"created\":735790403,\"owned_by\":\"ibm\"},{\"id\":\"ibm/granite-34b-code-instruct\",\"object\":\"model\",\"created\":735790403,\"owned_by\":\"ibm\"},{\"id\":\"ibm/granite-8b-code-instruct\",\"object\":\"model\",\"created\":735790403,\"owned_by\":\"ibm\"},{\"id\":\"ibm/granite-guardian-3.0-8b\",\"object\":\"model\",\"created\":735790403,\"owned_by\":\"ibm\"},{\"id\":\"igenius/colosseum_355b_instruct_16k\",\"object\":\"model\",\"created\":735790403,\"owned_by\":\"igenius\"},{\"id\":\"igenius/italia_10b_instruct_16k\",\"object\":\"model\",\"created\":735790403,\"owned_by\":\"igenius\"},{\"id\":\"institute-of-science-tokyo/llama-3.1-swallow-70b-instruct-v0.1\",\"object\":\"model\",\"created\":735790403,\"owned_by\":\"institute-of-science-tokyo\"},{\"id\":\"institute-of-science-tokyo/llama-3.1-swallow-8b-instruct-v0.1\",\"object\":\"model\",\"created\":735790403,\"owned_by\":\"institute-of-science-tokyo\"},{\"id\":\"marin/marin-8b-instruct\",\"object\":\"model\",\"created\":735790403,\"owned_by\":\"marin\"},{\"id\":\"mediatek/breeze-7b-instruct\",\"object\":\"model\",\"created\":735790403,\"owned_by\":\"mediatek\"},{\"id\":\"meta/codellama-70b\",\"object\":\"model\",\"created\":735790403,\"owned_by\":\"meta\"},{\"id\":\"meta/llama-3.1-405b-instruct\",\"object\":\"model\",\"created\":735790403,\"owned_by\":\"meta\"},{\"id\":\"meta/llama-3.1-70b-instruct\",\"object\":\"model\",\"created\":735790403,\"owned_by\":\"meta\"},{\"id\":\"meta/llama-3.1-8b-instruct\",\"object\":\"model\",\"created\":735790403,\"owned_by\":\"meta\"},{\"id\":\"meta/llama-3.2-11b-vision-instruct\",\"object\":\"model\",\"created\":735790403,\"owned_by\":\"meta\"},{\"id\":\"meta/llama-3.2-1b-instruct\",\"object\":\"model\",\"created\":735790403,\"owned_by\":\"meta\"},{\"id\":\"meta/llama-3.2-3b-instruct\",\"object\":\"model\",\"created\":735790403,\"owned_by\":\"meta\"},{\"id\":\"meta/llama-3.2-90b-vision-instruct\",\"object\":\"model\",\"created\":735790403,\"owned_by\":\"meta\"},{\"id\":\"meta/llama-3.3-70b-instruct\",\"object\":\"model\",\"created\":735790403,\"owned_by\":\"meta\"},{\"id\":\"meta/llama-4-maverick-17b-128e-instruct\",\"object\":\"model\",\"created\":735790403,\"owned_by\":\"meta\"},{\"id\":\"meta/llama-4-scout-17b-16e-instruct\",\"object\":\"model\",\"created\":735790403,\"owned_by\":\"meta\"},{\"id\":\"meta/llama2-70b\",\"object\":\"model\",\"created\":735790403,\"owned_by\":\"meta\"},{\"id\":\"meta/llama3-70b-instruct\",\"object\":\"model\",\"created\":735790403,\"owned_by\":\"meta\"},{\"id\":\"meta/llama3-8b-instruct\",\"object\":\"model\",\"created\":735790403,\"owned_by\":\"meta\"},{\"id\":\"microsoft/kosmos-2\",\"object\":\"model\",\"created\":735790403,\"owned_by\":\"microsoft\"},{\"id\":\"microsoft/phi-3-medium-128k-instruct\",\"object\":\"model\",\"created\":735790403,\"owned_by\":\"microsoft\"},{\"id\":\"microsoft/phi-3-medium-4k-instruct\",\"object\":\"model\",\"created\":735790403,\"owned_by\":\"microsoft\"},{\"id\":\"microsoft/phi-3-mini-128k-instruct\",\"object\":\"model\",\"created\":735790403,\"owned_by\":\"microsoft\"},{\"id\":\"microsoft/phi-3-mini-4k-instruct\",\"object\":\"model\",\"created\":735790403,\"owned_by\":\"microsoft\"},{\"id\":\"microsoft/phi-3-small-128k-instruct\",\"object\":\"model\",\"created\":735790403,\"owned_by\":\"microsoft\"},{\"id\":\"microsoft/phi-3-small-8k-instruct\",\"object\":\"model\",\"created\":735790403,\"owned_by\":\"microsoft\"},{\"id\":\"microsoft/phi-3-vision-128k-instruct\",\"object\":\"model\",\"created\":735790403,\"owned_by\":\"microsoft\"},{\"id\":\"microsoft/phi-3.5-mini-instruct\",\"object\":\"model\",\"created\":735790403,\"owned_by\":\"microsoft\"},{\"id\":\"microsoft/phi-3.5-moe-instruct\",\"object\":\"model\",\"created\":735790403,\"owned_by\":\"microsoft\"},{\"id\":\"microsoft/phi-3.5-vision-instruct\",\"object\":\"model\",\"created\":735790403,\"owned_by\":\"microsoft\"},{\"id\":\"microsoft/phi-4-mini-instruct\",\"object\":\"model\",\"created\":735790403,\"owned_by\":\"microsoft\"},{\"id\":\"microsoft/phi-4-multimodal-instruct\",\"object\":\"model\",\"created\":735790403,\"owned_by\":\"microsoft\"},{\"id\":\"mistralai/codestral-22b-instruct-v0.1\",\"object\":\"model\",\"created\":735790403,\"owned_by\":\"mistralai\"},{\"id\":\"mistralai/mamba-codestral-7b-v0.1\",\"object\":\"model\",\"created\":735790403,\"owned_by\":\"mistralai\"},{\"id\":\"mistralai/mathstral-7b-v0.1\",\"object\":\"model\",\"created\":735790403,\"owned_by\":\"mistralai\"},{\"id\":\"mistralai/mistral-7b-instruct-v0.2\",\"object\":\"model\",\"created\":735790403,\"owned_by\":\"mistralai\"},{\"id\":\"mistralai/mistral-7b-instruct-v0.3\",\"object\":\"model\",\"created\":735790403,\"owned_by\":\"mistralai\"},{\"id\":\"mistralai/mistral-large\",\"object\":\"model\",\"created\":735790403,\"owned_by\":\"mistralai\"},{\"id\":\"mistralai/mistral-large-2-instruct\",\"object\":\"model\",\"created\":735790403,\"owned_by\":\"mistralai\"},{\"id\":\"mistralai/mistral-medium-3-instruct\",\"object\":\"model\",\"created\":735790403,\"owned_by\":\"mistralai\"},{\"id\":\"mistralai/mistral-small-24b-instruct\",\"object\":\"model\",\"created\":735790403,\"owned_by\":\"mistralai\"},{\"id\":\"mistralai/mistral-small-3.1-24b-instruct-2503\",\"object\":\"model\",\"created\":735790403,\"owned_by\":\"mistralai\"},{\"id\":\"mistralai/mixtral-8x22b-instruct-v0.1\",\"object\":\"model\",\"created\":735790403,\"owned_by\":\"mistralai\"},{\"id\":\"mistralai/mixtral-8x22b-v0.1\",\"object\":\"model\",\"created\":735790403,\"owned_by\":\"mistralai\"},{\"id\":\"mistralai/mixtral-8x7b-instruct-v0.1\",\"object\":\"model\",\"created\":735790403,\"owned_by\":\"mistralai\"},{\"id\":\"nv-mistralai/mistral-nemo-12b-instruct\",\"object\":\"model\",\"created\":735790403,\"owned_by\":\"nv-mistralai\"},{\"id\":\"nvidia/embed-qa-4\",\"object\":\"model\",\"created\":735790403,\"owned_by\":\"nvidia\"},{\"id\":\"nvidia/llama-3.1-nemoguard-8b-content-safety\",\"object\":\"model\",\"created\":735790403,\"owned_by\":\"nvidia\"},{\"id\":\"nvidia/llama-3.1-nemoguard-8b-topic-control\",\"object\":\"model\",\"created\":735790403,\"owned_by\":\"nvidia\"},{\"id\":\"nvidia/llama-3.1-nemotron-51b-instruct\",\"object\":\"model\",\"created\":735790403,\"owned_by\":\"nvidia\"},{\"id\":\"nvidia/llama-3.1-nemotron-70b-instruct\",\"object\":\"model\",\"created\":735790403,\"owned_by\":\"nvidia\"},{\"id\":\"nvidia/llama-3.1-nemotron-70b-reward\",\"object\":\"model\",\"created\":735790403,\"owned_by\":\"nvidia\"},{\"id\":\"nvidia/llama-3.1-nemotron-nano-4b-v1.1\",\"object\":\"model\",\"created\":735790403,\"owned_by\":\"nvidia\"},{\"id\":\"nvidia/llama-3.1-nemotron-nano-8b-v1\",\"object\":\"model\",\"created\":735790403,\"owned_by\":\"nvidia\"},{\"id\":\"nvidia/llama-3.1-nemotron-nano-vl-8b-v1\",\"object\":\"model\",\"created\":735790403,\"owned_by\":\"nvidia\"},{\"id\":\"nvidia/llama-3.1-nemotron-ultra-253b-v1\",\"object\":\"model\",\"created\":735790403,\"owned_by\":\"nvidia\"},{\"id\":\"nvidia/llama-3.2-nv-embedqa-1b-v1\",\"object\":\"model\",\"created\":735790403,\"owned_by\":\"nvidia\"},{\"id\":\"nvidia/llama-3.2-nv-embedqa-1b-v2\",\"object\":\"model\",\"created\":735790403,\"owned_by\":\"nvidia\"},{\"id\":\"nvidia/llama-3.3-nemotron-super-49b-v1\",\"object\":\"model\",\"created\":735790403,\"owned_by\":\"nvidia\"},{\"id\":\"nvidia/llama3-chatqa-1.5-70b\",\"object\":\"model\",\"created\":735790403,\"owned_by\":\"nvidia\"},{\"id\":\"nvidia/llama3-chatqa-1.5-8b\",\"object\":\"model\",\"created\":735790403,\"owned_by\":\"nvidia\"},{\"id\":\"nvidia/mistral-nemo-minitron-8b-8k-instruct\",\"object\":\"model\",\"created\":735790403,\"owned_by\":\"nvidia\"},{\"id\":\"nvidia/mistral-nemo-minitron-8b-base\",\"object\":\"model\",\"created\":735790403,\"owned_by\":\"nvidia\"},{\"id\":\"nvidia/nemoretriever-parse\",\"object\":\"model\",\"created\":735790403,\"owned_by\":\"nvidia\"},{\"id\":\"nvidia/nemotron-4-340b-instruct\",\"object\":\"model\",\"created\":735790403,\"owned_by\":\"nvidia\"},{\"id\":\"nvidia/nemotron-4-340b-reward\",\"object\":\"model\",\"created\":735790403,\"owned_by\":\"nvidia\"},{\"id\":\"nvidia/nemotron-4-mini-hindi-4b-instruct\",\"object\":\"model\",\"created\":735790403,\"owned_by\":\"nvidia\"},{\"id\":\"nvidia/nemotron-mini-4b-instruct\",\"object\":\"model\",\"created\":735790403,\"owned_by\":\"nvidia\"},{\"id\":\"nvidia/neva-22b\",\"object\":\"model\",\"created\":735790403,\"owned_by\":\"nvidia\"},{\"id\":\"nvidia/nv-embed-v1\",\"object\":\"model\",\"created\":735790403,\"owned_by\":\"nvidia\"},{\"id\":\"nvidia/nv-embedcode-7b-v1\",\"object\":\"model\",\"created\":735790403,\"owned_by\":\"nvidia\"},{\"id\":\"nvidia/nv-embedqa-e5-v5\",\"object\":\"model\",\"created\":735790403,\"owned_by\":\"nvidia\"},{\"id\":\"nvidia/nv-embedqa-mistral-7b-v2\",\"object\":\"model\",\"created\":735790403,\"owned_by\":\"nvidia\"},{\"id\":\"nvidia/nvclip\",\"object\":\"model\",\"created\":735790403,\"owned_by\":\"nvidia\"},{\"id\":\"nvidia/usdcode-llama-3.1-70b-instruct\",\"object\":\"model\",\"created\":735790403,\"owned_by\":\"nvidia\"},{\"id\":\"nvidia/vila\",\"object\":\"model\",\"created\":735790403,\"owned_by\":\"nvidia\"},{\"id\":\"qwen/qwen2-7b-instruct\",\"object\":\"model\",\"created\":735790403,\"owned_by\":\"qwen\"},{\"id\":\"qwen/qwen2.5-7b-instruct\",\"object\":\"model\",\"created\":735790403,\"owned_by\":\"qwen\"},{\"id\":\"qwen/qwen2.5-coder-32b-instruct\",\"object\":\"model\",\"created\":735790403,\"owned_by\":\"qwen\"},{\"id\":\"qwen/qwen2.5-coder-7b-instruct\",\"object\":\"model\",\"created\":735790403,\"owned_by\":\"qwen\"},{\"id\":\"qwen/qwen3-235b-a22b\",\"object\":\"model\",\"created\":735790403,\"owned_by\":\"qwen\"},{\"id\":\"qwen/qwq-32b\",\"object\":\"model\",\"created\":735790403,\"owned_by\":\"qwen\"},{\"id\":\"rakuten/rakutenai-7b-chat\",\"object\":\"model\",\"created\":735790403,\"owned_by\":\"rakuten\"},{\"id\":\"rakuten/rakutenai-7b-instruct\",\"object\":\"model\",\"created\":735790403,\"owned_by\":\"rakuten\"},{\"id\":\"snowflake/arctic-embed-l\",\"object\":\"model\",\"created\":735790403,\"owned_by\":\"snowflake\"},{\"id\":\"speakleash/bielik-11b-v2.3-instruct\",\"object\":\"model\",\"created\":735790403,\"owned_by\":\"speakleash\"},{\"id\":\"thudm/chatglm3-6b\",\"object\":\"model\",\"created\":735790403,\"owned_by\":\"thudm\"},{\"id\":\"tiiuae/falcon3-7b-instruct\",\"object\":\"model\",\"created\":735790403,\"owned_by\":\"tiiuae\"},{\"id\":\"tokyotech-llm/llama-3-swallow-70b-instruct-v0.1\",\"object\":\"model\",\"created\":735790403,\"owned_by\":\"tokyotech-llm\"},{\"id\":\"upstage/solar-10.7b-instruct\",\"object\":\"model\",\"created\":735790403,\"owned_by\":\"upstage\"},{\"id\":\"utter-project/eurollm-9b-instruct\",\"object\":\"model\",\"created\":735790403,\"owned_by\":\"utter-project\"},{\"id\":\"writer/palmyra-creative-122b\",\"object\":\"model\",\"created\":735790403,\"owned_by\":\"writer\"},{\"id\":\"writer/palmyra-fin-70b-32k\",\"object\":\"model\",\"created\":735790403,\"owned_by\":\"writer\"},{\"id\":\"writer/palmyra-med-70b\",\"object\":\"model\",\"created\":735790403,\"owned_by\":\"writer\"},{\"id\":\"writer/palmyra-med-70b-32k\",\"object\":\"model\",\"created\":735790403,\"owned_by\":\"writer\"},{\"id\":\"yentinglin/llama-3-taiwan-70b-instruct\",\"object\":\"model\",\"created\":735790403,\"owned_by\":\"yentinglin\"},{\"id\":\"zyphra/zamba2-7b-instruct\",\"object\":\"model\",\"created\":735790403,\"owned_by\":\"zyphra\"}]}\n",
            "\n"
          ]
        }
      ]
    },
    {
      "cell_type": "markdown",
      "source": [
        "### 2.5. Menggabungkan Retriever dan LLM: RAG Chain\n",
        "\n",
        "Setelah vector store dan LLM dikonfigurasi, kita menggabungkannya menjadi sebuah RAG (Retrieval Augmented Generation) chain:\n",
        "1.  **Retriever:**\n",
        "    * `vectorstore.as_retriever()` mengubah vector store FAISS kita menjadi objek retriever LangChain.\n",
        "    * `search_type=\"similarity\"`: Menginstruksikan retriever untuk mencari dokumen berdasarkan kemiripan kosinus (cosine similarity).\n",
        "    * `search_kwargs={\"k\": 3}`: Retriever akan mengambil 3 dokumen teratas yang paling mirip dengan query pengguna.\n",
        "2.  **RAG Chain (`RetrievalQA`):**\n",
        "    * `RetrievalQA` adalah chain yang mengkombinasikan retriever dengan LLM.\n",
        "    * `llm=llm`: Menggunakan LLM NVIDIA yang telah dikonfigurasi.\n",
        "    * `chain_type=\"stuff\"`: Salah satu metode untuk memasukkan dokumen yang diambil ke dalam prompt LLM. Metode \"stuff\" akan menggabungkan semua dokumen yang diambil ke dalam satu prompt. Cocok jika total panjang dokumen tidak terlalu besar.\n",
        "    * `retriever=retriever`: Menggunakan retriever yang baru saja dibuat.\n",
        "\n",
        "Chain ini akan:\n",
        "1.  Menerima query pengguna.\n",
        "2.  Menggunakan retriever untuk menemukan dokumen (potongan teks dari dataset kita) yang relevan.\n",
        "3.  Memasukkan query pengguna dan dokumen yang relevan ke dalam LLM.\n",
        "4.  LLM kemudian menghasilkan jawaban berdasarkan informasi tersebut."
      ],
      "metadata": {
        "id": "zmE9vS5yQEPo"
      }
    },
    {
      "cell_type": "code",
      "source": [
        "retriever = vectorstore.as_retriever(search_type=\"similarity\", search_kwargs={\"k\": 3})\n",
        "qa_chain = RetrievalQA.from_chain_type(llm=llm, chain_type=\"stuff\", retriever=retriever)"
      ],
      "metadata": {
        "id": "p1XP6zjuLPbC"
      },
      "execution_count": null,
      "outputs": []
    },
    {
      "cell_type": "markdown",
      "source": [
        "# 3. MENGGUNAKAN SISTEM REKOMENDASI OUTFIT\n",
        "\n",
        "Sekarang sistem RAG telah siap, kita dapat mengajukan pertanyaan atau permintaan rekomendasi outfit.\n",
        "\n",
        "### 3.1. Contoh Query\n",
        "Kita akan mencoba query: \"Berikan rekomendasi outfit untuk acara formal dengan cuaca dingin\".\n",
        "Chain `qa_chain` akan memproses query ini dan menghasilkan rekomendasi."
      ],
      "metadata": {
        "id": "LOO_Yw8cQKOS"
      }
    },
    {
      "cell_type": "code",
      "source": [
        "print(\"Welcome to the Interactive Outfit Recommendation System!\")\n",
        "print(\"Type 'exit' at any time to quit the program.\")\n",
        "print(\"-\" * 50)\n",
        "\n",
        "while True:\n",
        "    user_query = input(\"\\nYou: \")\n",
        "    if user_query.lower() == 'exit':\n",
        "        print(\"\\nThank you for using the recommendation system. Goodbye!\")\n",
        "        break\n",
        "    if not user_query.strip():\n",
        "        print(\"Please enter your question.\")\n",
        "        continue\n",
        "\n",
        "    print(\"\\nModel is thinking...\")\n",
        "    try:\n",
        "        result = qa_chain.run(user_query)\n",
        "        print(\"\\nModel's Answer:\")\n",
        "        print(result)\n",
        "    except Exception as e:\n",
        "        print(f\"Sorry, an error occurred while processing your request: {e}\")\n",
        "    print(\"-\" * 50)"
      ],
      "metadata": {
        "colab": {
          "base_uri": "https://localhost:8080/"
        },
        "id": "nZhuo47OQ-Fv",
        "outputId": "2a8518ed-db42-48b0-a9d6-5d83b9593acd"
      },
      "execution_count": null,
      "outputs": [
        {
          "output_type": "stream",
          "name": "stdout",
          "text": [
            "Welcome to the Interactive Outfit Recommendation System!\n",
            "Type 'exit' at any time to quit the program.\n",
            "--------------------------------------------------\n",
            "\n",
            "You: halo\n",
            "\n",
            "Model is thinking...\n",
            "\n",
            "Model's Answer:\n",
            "Hello!\n",
            "--------------------------------------------------\n",
            "\n",
            "You: i am ready to hiking with my friend\n",
            "\n",
            "Model is thinking...\n",
            "\n",
            "Model's Answer:\n",
            "It sounds like you're looking for advice on what to wear for a hiking trip in a national park. \n",
            "\n",
            "For a comfortable and practical outfit, consider wearing moisture-wicking, breathable clothing and sturdy hiking boots. You may also want to bring layers for changing weather conditions. Don't forget to pack sunscreen, a hat, and sunglasses for protection from the sun. \n",
            "\n",
            "Additionally, it's a good idea to bring enough water, snacks, and a first-aid kit for your hike. Make sure to check the weather forecast and trail conditions before you go and let someone know your hiking plans. \n",
            "\n",
            "Have a safe and enjoyable hike with your friend!\n",
            "--------------------------------------------------\n",
            "\n",
            "You: give outfit advice about that\n",
            "\n",
            "Model is thinking...\n",
            "\n",
            "Model's Answer:\n",
            "For the plus-size woman with a lot of weight in her midsection, consider wearing a high-waisted, flowing dress or skirt with a fitted top that cinches at the waist. This will help draw attention to the waistline and create a more balanced silhouette. Look for dresses or skirts made of lightweight, breathable fabrics that will keep you comfortable throughout the party. Accessorize with a statement necklace or a pair of bold earrings to add a touch of glamour.\n",
            "\n",
            "For the muscular mesomorph man, a fitted t-shirt that accentuates his chest and arms paired with fitted jeans or slim-fit chinos would be an excellent choice. If he wants to add a touch of sophistication, he could opt for a tailored suit with a slim-fit shirt and a slim-fit tie. The key is to maintain a fitted look that highlights his physique without appearing too tight or revealing.\n",
            "\n",
            "For the athletic pear-shaped woman, a pair of high-waisted joggers or leggings paired with a fitted crop top or a long-sleeve turtleneck would be a great combination. The high waist will help elongate her legs, while the fitted top will accentuate her athletic build. To add a touch of elegance, she could opt for a pair of heeled ankle boots or a pair of stylish sneakers.\n",
            "--------------------------------------------------\n",
            "\n",
            "You: i am skinny man\n",
            "\n",
            "Model is thinking...\n",
            "\n",
            "Model's Answer:\n",
            "You are a slender man.\n",
            "--------------------------------------------------\n",
            "\n",
            "You: i am skinny man  give outfit advice about i am ready to hiking with my friend\n",
            "\n",
            "Model is thinking...\n",
            "\n",
            "Model's Answer:\n",
            "For a hiking adventure with your friend, consider a balance of comfort, mobility, and style. Here's a suggested outfit for you:\n",
            "\n",
            "1. **Base Layer:** Start with a moisture-wicking, long-sleeve shirt in a neutral color like gray or navy blue. This will provide comfort and protection from the elements.\n",
            "\n",
            "2. **Upper Layer:** Over your base layer, wear a lightweight, breathable fleece jacket in a color that complements your base layer. This will offer warmth and protection from wind.\n",
            "\n",
            "3. **Lower Layer:** Pair your outfit with slim-fit, dark-washed jeans or chinos. These are versatile and can be dressed up or down.\n",
            "\n",
            "4. **Outerwear:** For added protection against the sun or light rain, consider a lightweight, water-resistant jacket. Look for one with a hood and adjustable cuffs.\n",
            "\n",
            "5. **Footwear:** Invest in a pair of sturdy hiking boots or trail running shoes with good grip and ankle support. They should be comfortable and provide the necessary support for your feet.\n",
            "\n",
            "6. **Accessories:**\n",
            "   - **Hat or Visor:** Protect your face and eyes with a wide-brimmed hat or a visor.\n",
            "   - **Sunglasses:** Shield your eyes from the sun's glare.\n",
            "   - **Sunscreen:** Apply a broad-spectrum sunscreen to protect your skin.\n",
            "   - **Water Bottle:** Stay hydrated with a reusable water bottle.\n",
            "   - **Small Backpack:** Carry essentials like snacks, a first-aid kit, and a map.\n",
            "\n",
            "7. **Additional Tips:**\n",
            "   - **Layering:** Remember that layering is key. You can always adjust your layers based on the temperature and your activity level.\n",
            "   - **Comfort:** Prioritize comfort. You'll be more focused on the hike if you're not distracted by discomfort.\n",
            "   - **Safety:** Ensure your footwear and clothing are appropriate for the terrain and weather conditions.\n",
            "\n",
            "This outfit should provide you with a comfortable and stylish look while ensuring you're ready for a day of hiking with your friend. Enjoy your adventure!\n",
            "--------------------------------------------------\n",
            "\n",
            "You: exit\n",
            "\n",
            "Thank you for using the recommendation system. Goodbye!\n"
          ]
        }
      ]
    },
    {
      "cell_type": "markdown",
      "source": [
        "# 4. Simpan FAISS_INDEX_PATH\n"
      ],
      "metadata": {
        "id": "w3cpX3FCRfYA"
      }
    },
    {
      "cell_type": "code",
      "source": [
        "FAISS_INDEX_PATH = \"faiss_outfit_recommendation_index\" # Pastikan nama ini sama\n",
        "vectorstore.save_local(FAISS_INDEX_PATH)\n",
        "print(f\"Vector store saved to {FAISS_INDEX_PATH}\")"
      ],
      "metadata": {
        "colab": {
          "base_uri": "https://localhost:8080/"
        },
        "id": "BmIsCUlVSmx6",
        "outputId": "d4a34e8a-b85a-437b-e398-3b21e90d68bc"
      },
      "execution_count": null,
      "outputs": [
        {
          "output_type": "stream",
          "name": "stdout",
          "text": [
            "Vector store saved to faiss_outfit_recommendation_index\n"
          ]
        }
      ]
    },
    {
      "cell_type": "markdown",
      "source": [
        "# 5. Prompt Engineriing"
      ],
      "metadata": {
        "id": "wxMCvYB-TELi"
      }
    },
    {
      "cell_type": "code",
      "source": [
        "from langchain_core.prompts import PromptTemplate\n",
        "\n",
        "prompt_template = \"\"\"You are a friendly and helpful expert fashion stylist. Based on the following preferences and event information, provide detailed and stylish outfit recommendations.\n",
        "If the information provided is insufficient, ask for relevant additional details.\n",
        "\n",
        "Context from data:\n",
        "{context}\n",
        "\n",
        "User's Question: {question}\n",
        "\n",
        "Outfit Recommendation (explain each item and why it's suitable):\n",
        "\"\"\"\n",
        "PROMPT = PromptTemplate(\n",
        "    template=prompt_template, input_variables=[\"context\", \"question\"]\n",
        ")\n",
        "\n",
        "# Saat membuat chain:\n",
        "qa_chain = RetrievalQA.from_chain_type(\n",
        "llm=llm,\n",
        "chain_type=\"stuff\",\n",
        "retriever=retriever,\n",
        "chain_type_kwargs={\"prompt\": PROMPT}\n",
        ")"
      ],
      "metadata": {
        "id": "3NU2lihBTLHw"
      },
      "execution_count": null,
      "outputs": []
    },
    {
      "cell_type": "code",
      "source": [
        "print(\"Welcome to the Interactive Outfit Recommendation System!\")\n",
        "print(\"Type 'exit' at any time to quit the program.\")\n",
        "print(\"-\" * 50)\n",
        "\n",
        "while True:\n",
        "    user_query = input(\"\\nYou: \")\n",
        "    if user_query.lower() == 'exit':\n",
        "        print(\"\\nThank you for using the recommendation system. Goodbye!\")\n",
        "        break\n",
        "    if not user_query.strip():\n",
        "        print(\"Please enter your question.\")\n",
        "        continue\n",
        "\n",
        "    print(\"\\nModel is thinking...\")\n",
        "    try:\n",
        "        result = qa_chain.run(user_query)\n",
        "        print(\"\\nModel's Answer:\")\n",
        "        print(result)\n",
        "    except Exception as e:\n",
        "        print(f\"Sorry, an error occurred while processing your request: {e}\")\n",
        "    print(\"-\" * 50)"
      ],
      "metadata": {
        "colab": {
          "base_uri": "https://localhost:8080/"
        },
        "id": "kn2kXiO3UAgc",
        "outputId": "877dbf38-7161-4120-d8e5-f68d68074be6"
      },
      "execution_count": null,
      "outputs": [
        {
          "output_type": "stream",
          "name": "stdout",
          "text": [
            "Welcome to the Interactive Outfit Recommendation System!\n",
            "Type 'exit' at any time to quit the program.\n",
            "--------------------------------------------------\n",
            "\n",
            "You: i am ready to hiking with my friend\n",
            "\n",
            "Model is thinking...\n",
            "\n",
            "Model's Answer:\n",
            "Sure, I'd be happy to help you with your outfit recommendations for hiking in a national park. Here's a suggestion for each of you:\n",
            "\n",
            "For the broad-chested, tall man who loves classic, refined clothing:\n",
            "\n",
            "* A pair of high-quality, breathable hiking pants in a neutral color such as khaki or navy blue. These should be made of a durable, moisture-wicking fabric that will keep you comfortable during your hike.\n",
            "* A lightweight, moisture-wicking hiking shirt in a color that complements your pants. Consider a long-sleeved shirt for sun protection, or a short-sleeved shirt for warmer weather.\n",
            "* A pair of sturdy hiking boots that are appropriate for the terrain you'll be hiking on. Look for boots with good ankle support and a comfortable, cushioned insole.\n",
            "* A wide-brimmed hat to protect your face and neck from the sun. A hat with a chin strap can also be helpful for keeping it in place during windy conditions.\n",
            "* A pair of sunglasses with polarized lenses to reduce glare from the sun and improve visibility.\n",
            "* A lightweight, waterproof jacket in case of unexpected rain or wind.\n",
            "\n",
            "For the muscular, short man who likes casual, rugged styles:\n",
            "\n",
            "* A pair of high-quality, breathable hiking pants in a neutral color such as khaki or navy blue. These should be made of a durable, moisture-wicking fabric that will keep you comfortable during your hike.\n",
            "* A lightweight, moisture-wicking hiking shirt in a color that complements your pants. Consider a long-sleeved shirt for sun protection, or a short-sleeved shirt for warmer weather.\n",
            "* A pair of sturdy hiking boots that are appropriate for the terrain you'll be hiking on. Look for boots with good ankle support and a comfortable, cushioned insole.\n",
            "* A wide-brimmed hat to protect your face and neck from the sun. A hat with a chin strap can also be helpful for keeping it in place during windy conditions.\n",
            "* A pair of sunglasses with polarized lenses to reduce glare from the sun and improve visibility.\n",
            "* A pair of fitted, quick-drying shorts in case you get hot during your hike.\n",
            "\n",
            "For both of you, consider bringing a backpack with enough water, snacks, and other essentials for your hike. It's also a good idea to check the weather forecast before you go and adjust your outfit accordingly. Have a great hike!\n",
            "--------------------------------------------------\n",
            "\n",
            "You: exit\n",
            "\n",
            "Thank you for using the recommendation system. Goodbye!\n"
          ]
        }
      ]
    }
  ]
}